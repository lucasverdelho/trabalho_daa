{
 "cells": [
  {
   "cell_type": "code",
   "execution_count": null,
   "id": "1a012027",
   "metadata": {},
   "outputs": [],
   "source": [
    "#DATASETS:  https://www.kaggle.com/datasets/thedevastator/airbnb-prices-in-european-cities\n",
    "#DATASET DESCRIPTION: https://zenodo.org/records/4446043#.ZEV8d-zMI-R"
   ]
  },
  {
   "cell_type": "code",
   "execution_count": 1,
   "id": "f2a64391",
   "metadata": {},
   "outputs": [],
   "source": [
    "#Let's start by importing all packages needed.\n",
    "import sklearn as skl\n",
    "import pandas as pd\n",
    "import matplotlib.pyplot as plt\n",
    "from ipywidgets import interact, widgets\n",
    "import seaborn as sns\n",
    "from sklearn import preprocessing\n",
    "import numpy as np\n",
    "import time\n",
    "\n",
    "\n",
    "from sklearn.tree import DecisionTreeClassifier, DecisionTreeRegressor\n",
    "from sklearn.tree import plot_tree, export_text\n",
    "\n",
    "\n",
    "from sklearn.model_selection import GridSearchCV, RandomizedSearchCV, KFold, train_test_split\n",
    "from sklearn.pipeline import Pipeline\n",
    "from sklearn.impute import SimpleImputer\n",
    "from sklearn.preprocessing import OneHotEncoder\n",
    "from sklearn.compose import make_column_transformer, ColumnTransformer\n",
    "from sklearn.datasets import make_blobs\n",
    "from sklearn.decomposition import PCA\n",
    "from sklearn.cluster import KMeans\n",
    "\n",
    "from scipy.stats import uniform, poisson\n",
    "\n",
    "from sklearn.metrics import confusion_matrix, \\\n",
    "                            accuracy_score, \\\n",
    "                            precision_score, \\\n",
    "                            recall_score, \\\n",
    "                            f1_score, \\\n",
    "                            fbeta_score, \\\n",
    "                            mean_squared_error, \\\n",
    "                            mean_absolute_error, \\\n",
    "                            roc_auc_score, \\\n",
    "                            roc_curve, \\\n",
    "                            classification_report\n"
   ]
  },
  {
   "cell_type": "code",
   "execution_count": 2,
   "id": "7e1b918e",
   "metadata": {},
   "outputs": [],
   "source": [
    "#Set graph styling\n",
    "custom_palette = [\"#0078D4\", \"#FFA500\", \"#00B294\", \"#7A7574\", \"#F7630C\"]\n",
    "power_bi_style = {\n",
    "    'axes.labelsize': 12,\n",
    "    'axes.titlesize': 16,\n",
    "    'legend.fontsize': 12,\n",
    "    'legend.frameon': False,\n",
    "    'legend.loc': 'upper right',\n",
    "    'axes.grid': False,\n",
    "    'grid.color': 'lightgray',\n",
    "    'axes.spines.right': False,\n",
    "    'axes.spines.top': False,\n",
    "    'axes.facecolor': 'white',\n",
    "}\n",
    "\n",
    "# Apply the custom style\n",
    "plt.style.use(power_bi_style)\n"
   ]
  },
  {
   "cell_type": "code",
   "execution_count": 3,
   "id": "129ca833",
   "metadata": {},
   "outputs": [],
   "source": [
    "#Load the datasets.\n",
    "cities = [\"Amsterdam\",\"Athens\",\"Barcelona\",\"Berlin\",\"Budapest\",\"Lisbon\",\"London\",\"Paris\",\"Rome\",\"Vienna\"]\n",
    "df_am1 = pd.read_csv('~/Downloads/DAA/archive/amsterdam_weekdays.csv')\n",
    "df_am2 = pd.read_csv('~/Downloads/DAA/archive/amsterdam_weekends.csv')\n",
    "\n",
    "df_at1 = pd.read_csv('~/Downloads/DAA/archive/athens_weekdays.csv')\n",
    "df_at2 = pd.read_csv('~/Downloads/DAA/archive/athens_weekends.csv')\n",
    "\n",
    "df_ba1 = pd.read_csv('~/Downloads/DAA/archive/barcelona_weekdays.csv')\n",
    "df_ba2 = pd.read_csv('~/Downloads/DAA/archive/barcelona_weekends.csv')\n",
    "\n",
    "df_be1 = pd.read_csv('~/Downloads/DAA/archive/berlin_weekdays.csv')\n",
    "df_be2 = pd.read_csv('~/Downloads/DAA/archive/berlin_weekends.csv')\n",
    "\n",
    "df_bu1 = pd.read_csv('~/Downloads/DAA/archive/budapest_weekdays.csv')\n",
    "df_bu2 = pd.read_csv('~/Downloads/DAA/archive/budapest_weekends.csv')\n",
    "\n",
    "df_li1 = pd.read_csv('~/Downloads/DAA/archive/lisbon_weekdays.csv')\n",
    "df_li2 = pd.read_csv('~/Downloads/DAA/archive/lisbon_weekends.csv')\n",
    "\n",
    "df_lo1 = pd.read_csv('~/Downloads/DAA/archive/london_weekdays.csv')\n",
    "df_lo2 = pd.read_csv('~/Downloads/DAA/archive/london_weekends.csv')\n",
    "\n",
    "df_pa1 = pd.read_csv('~/Downloads/DAA/archive/paris_weekdays.csv')\n",
    "df_pa2 = pd.read_csv('~/Downloads/DAA/archive/paris_weekends.csv')\n",
    "\n",
    "df_ro1 = pd.read_csv('~/Downloads/DAA/archive/rome_weekdays.csv')\n",
    "df_ro2 = pd.read_csv('~/Downloads/DAA/archive/rome_weekends.csv')\n",
    "\n",
    "df_vi1 = pd.read_csv('~/Downloads/DAA/archive/vienna_weekdays.csv')\n",
    "df_vi2 = pd.read_csv('~/Downloads/DAA/archive/vienna_weekends.csv')"
   ]
  },
  {
   "cell_type": "code",
   "execution_count": 4,
   "id": "c9a5a1e6",
   "metadata": {},
   "outputs": [],
   "source": [
    "# -------------------------------------------------------------------------\n",
    "#The following section will be the data processing of the several cities."
   ]
  },
  {
   "cell_type": "code",
   "execution_count": 5,
   "id": "46e59f6e",
   "metadata": {},
   "outputs": [],
   "source": [
    "df_am1[\"dataType\"] = \"Weekday\"\n",
    "df_am2[\"dataType\"] = \"Weekend\"\n",
    "\n",
    "df_at1[\"dataType\"] = \"Weekday\"\n",
    "df_at2[\"dataType\"] = \"Weekend\"\n",
    "\n",
    "df_ba1[\"dataType\"] = \"Weekday\"\n",
    "df_ba2[\"dataType\"] = \"Weekend\"\n",
    "\n",
    "df_be1[\"dataType\"] = \"Weekday\"\n",
    "df_be2[\"dataType\"] = \"Weekend\"\n",
    "\n",
    "df_bu1[\"dataType\"] = \"Weekday\"\n",
    "df_bu2[\"dataType\"] = \"Weekend\"\n",
    "\n",
    "df_li1[\"dataType\"] = \"Weekday\"\n",
    "df_li2[\"dataType\"] = \"Weekend\"\n",
    "\n",
    "df_lo1[\"dataType\"] = \"Weekday\"\n",
    "df_lo2[\"dataType\"] = \"Weekend\"\n",
    "\n",
    "df_pa1[\"dataType\"] = \"Weekday\"\n",
    "df_pa2[\"dataType\"] = \"Weekend\"\n",
    "\n",
    "df_ro1[\"dataType\"] = \"Weekday\"\n",
    "df_ro2[\"dataType\"] = \"Weekend\"\n",
    "\n",
    "df_vi1[\"dataType\"] = \"Weekday\"\n",
    "df_vi2[\"dataType\"] = \"Weekend\""
   ]
  },
  {
   "cell_type": "code",
   "execution_count": 6,
   "id": "c089f020",
   "metadata": {},
   "outputs": [],
   "source": [
    "#Append the datasets.\n",
    "df_am = df_am1._append(df_am2,ignore_index=True)\n",
    "df_at = df_at1._append(df_at2,ignore_index=True)\n",
    "df_ba = df_ba1._append(df_ba2,ignore_index=True)\n",
    "df_be = df_be1._append(df_be2,ignore_index=True)\n",
    "df_bu = df_bu1._append(df_bu2,ignore_index=True)\n",
    "df_li = df_li1._append(df_li2,ignore_index=True)\n",
    "df_lo = df_lo1._append(df_lo2,ignore_index=True)\n",
    "df_pa = df_pa1._append(df_pa2,ignore_index=True)\n",
    "df_ro = df_ro1._append(df_ro2,ignore_index=True)\n",
    "df_vi = df_vi1._append(df_vi2,ignore_index=True)"
   ]
  },
  {
   "cell_type": "code",
   "execution_count": 7,
   "id": "9b4d966b",
   "metadata": {},
   "outputs": [],
   "source": [
    "#df_am['dist'] = df_am['dist'].round(decimals = 3) #1\n",
    "#df_am['metro_dist'] = df_am['metro_dist'].round(decimals = 3)\n",
    "\n",
    "#df_at['dist'] = df_at['dist'].round(decimals = 3)\n",
    "#df_at['metro_dist'] = df_at['metro_dist'].round(decimals = 3)\n",
    "\n",
    "#df_ba['dist'] = df_ba['dist'].round(decimals = 3)\n",
    "#df_ba['metro_dist'] = df_ba['metro_dist'].round(decimals = 3)\n",
    "\n",
    "#df_be['dist'] = df_be['dist'].round(decimals = 3)\n",
    "#df_be['metro_dist'] = df_be['metro_dist'].round(decimals = 3)\n",
    "\n",
    "#df_bu['dist'] = df_bu['dist'].round(decimals = 3)\n",
    "#df_bu['metro_dist'] = df_bu['metro_dist'].round(decimals = 3)\n",
    "\n",
    "#df_li['dist'] = df_li['dist'].round(decimals = 3)\n",
    "#df_li['metro_dist'] = df_li['metro_dist'].round(decimals = 3)\n",
    "\n",
    "#df_lo['dist'] = df_lo['dist'].round(decimals = 3)\n",
    "#df_lo['metro_dist'] = df_lo['metro_dist'].round(decimals = 3)\n",
    "\n",
    "#df_pa['dist'] = df_pa['dist'].round(decimals = 3)\n",
    "#df_pa['metro_dist'] = df_pa['metro_dist'].round(decimals = 3)\n",
    "\n",
    "#df_ro['dist'] = df_ro['dist'].round(decimals = 3) #0\n",
    "#df_ro['metro_dist'] = df_ro['metro_dist'].round(decimals = 3)\n",
    "\n",
    "#df_vi['dist'] = df_vi['dist'].round(decimals = 3)\n",
    "#df_vi['metro_dist'] = df_vi['metro_dist'].round(decimals = 3)"
   ]
  },
  {
   "cell_type": "code",
   "execution_count": 8,
   "id": "915c2768",
   "metadata": {},
   "outputs": [],
   "source": [
    "df_am[\"city\"] = \"Amsterdam\"\n",
    "df_at[\"city\"] = \"Athens\"\n",
    "df_ba[\"city\"] = \"Barcelona\"\n",
    "df_be[\"city\"] = \"Berlin\"\n",
    "df_bu[\"city\"] = \"Budapest\"\n",
    "df_li[\"city\"] = \"Lisbon\"\n",
    "df_lo[\"city\"] = \"London\"\n",
    "df_pa[\"city\"] = \"Paris\"\n",
    "df_ro[\"city\"] = \"Rome\"\n",
    "df_vi[\"city\"] = \"Vienna\""
   ]
  },
  {
   "cell_type": "code",
   "execution_count": 9,
   "id": "f318e555",
   "metadata": {},
   "outputs": [],
   "source": [
    "#Append all data into a final global dataset\n",
    "df = df_am._append(df_at,ignore_index=True)\n",
    "df = df._append(df_ba,ignore_index=True)\n",
    "df = df._append(df_ba,ignore_index=True)\n",
    "df = df._append(df_be,ignore_index=True)\n",
    "df = df._append(df_bu,ignore_index=True)\n",
    "df = df._append(df_li,ignore_index=True)\n",
    "df = df._append(df_lo,ignore_index=True)\n",
    "df = df._append(df_pa,ignore_index=True)\n",
    "df = df._append(df_ro,ignore_index=True)\n",
    "df = df._append(df_vi,ignore_index=True)"
   ]
  },
  {
   "cell_type": "code",
   "execution_count": 10,
   "id": "b4b335a7",
   "metadata": {},
   "outputs": [
    {
     "data": {
      "text/plain": [
       "Unnamed: 0                    False\n",
       "realSum                       False\n",
       "room_type                     False\n",
       "room_shared                   False\n",
       "room_private                  False\n",
       "person_capacity               False\n",
       "host_is_superhost             False\n",
       "multi                         False\n",
       "biz                           False\n",
       "cleanliness_rating            False\n",
       "guest_satisfaction_overall    False\n",
       "bedrooms                      False\n",
       "dist                          False\n",
       "metro_dist                    False\n",
       "attr_index                    False\n",
       "attr_index_norm               False\n",
       "rest_index                    False\n",
       "rest_index_norm               False\n",
       "lng                           False\n",
       "lat                           False\n",
       "dataType                      False\n",
       "city                          False\n",
       "dtype: bool"
      ]
     },
     "execution_count": 10,
     "metadata": {},
     "output_type": "execute_result"
    }
   ],
   "source": [
    "#Checking if there occured any null values originated from the append\n",
    "df.isna().any()"
   ]
  },
  {
   "cell_type": "code",
   "execution_count": 11,
   "id": "7b9b94af",
   "metadata": {},
   "outputs": [
    {
     "name": "stdout",
     "output_type": "stream",
     "text": [
      "Index(['realSum', 'room_type', 'room_shared', 'room_private',\n",
      "       'person_capacity', 'host_is_superhost', 'multi', 'biz',\n",
      "       'cleanliness_rating', 'guest_satisfaction_overall', 'bedrooms', 'dist',\n",
      "       'metro_dist', 'attr_index', 'attr_index_norm', 'rest_index',\n",
      "       'rest_index_norm', 'lng', 'lat', 'dataType', 'city'],\n",
      "      dtype='object')\n"
     ]
    }
   ],
   "source": [
    "#That column 'Unnamed: 0' is completely unnecessary, as it appears to be a previous index of rows of the datasets.\n",
    "#Right now, it is simply a hindrance - we must exclude it from our data.\n",
    "df = df.drop(['Unnamed: 0'], axis=1)\n",
    "print(df.columns)"
   ]
  },
  {
   "cell_type": "code",
   "execution_count": 12,
   "id": "d5d3a671",
   "metadata": {},
   "outputs": [
    {
     "name": "stdout",
     "output_type": "stream",
     "text": [
      "<class 'pandas.core.frame.DataFrame'>\n",
      "RangeIndex: 54540 entries, 0 to 54539\n",
      "Data columns (total 21 columns):\n",
      " #   Column                      Non-Null Count  Dtype  \n",
      "---  ------                      --------------  -----  \n",
      " 0   realSum                     54540 non-null  float64\n",
      " 1   room_type                   54540 non-null  object \n",
      " 2   room_shared                 54540 non-null  bool   \n",
      " 3   room_private                54540 non-null  bool   \n",
      " 4   person_capacity             54540 non-null  float64\n",
      " 5   host_is_superhost           54540 non-null  bool   \n",
      " 6   multi                       54540 non-null  int64  \n",
      " 7   biz                         54540 non-null  int64  \n",
      " 8   cleanliness_rating          54540 non-null  float64\n",
      " 9   guest_satisfaction_overall  54540 non-null  float64\n",
      " 10  bedrooms                    54540 non-null  int64  \n",
      " 11  dist                        54540 non-null  float64\n",
      " 12  metro_dist                  54540 non-null  float64\n",
      " 13  attr_index                  54540 non-null  float64\n",
      " 14  attr_index_norm             54540 non-null  float64\n",
      " 15  rest_index                  54540 non-null  float64\n",
      " 16  rest_index_norm             54540 non-null  float64\n",
      " 17  lng                         54540 non-null  float64\n",
      " 18  lat                         54540 non-null  float64\n",
      " 19  dataType                    54540 non-null  object \n",
      " 20  city                        54540 non-null  object \n",
      "dtypes: bool(3), float64(12), int64(3), object(3)\n",
      "memory usage: 7.6+ MB\n"
     ]
    }
   ],
   "source": [
    "#Ok, let's just check if the dataType column is categorical (since it is important for later).\n",
    "df.info()"
   ]
  },
  {
   "cell_type": "code",
   "execution_count": 13,
   "id": "4527b883",
   "metadata": {},
   "outputs": [],
   "source": [
    "#We might as well convert room_type to categorical as well, since it can be important\n",
    "df[\"dataType\"] = df[\"dataType\"].astype(\"category\")\n",
    "df[\"room_type\"] = df[\"room_type\"].astype(\"category\")\n",
    "df[\"city\"] = df[\"city\"].astype(\"category\")"
   ]
  },
  {
   "cell_type": "code",
   "execution_count": 14,
   "id": "48fe2362",
   "metadata": {},
   "outputs": [
    {
     "data": {
      "text/html": [
       "<div>\n",
       "<style scoped>\n",
       "    .dataframe tbody tr th:only-of-type {\n",
       "        vertical-align: middle;\n",
       "    }\n",
       "\n",
       "    .dataframe tbody tr th {\n",
       "        vertical-align: top;\n",
       "    }\n",
       "\n",
       "    .dataframe thead th {\n",
       "        text-align: right;\n",
       "    }\n",
       "</style>\n",
       "<table border=\"1\" class=\"dataframe\">\n",
       "  <thead>\n",
       "    <tr style=\"text-align: right;\">\n",
       "      <th></th>\n",
       "      <th>realSum</th>\n",
       "      <th>room_type</th>\n",
       "      <th>room_shared</th>\n",
       "      <th>room_private</th>\n",
       "      <th>person_capacity</th>\n",
       "      <th>host_is_superhost</th>\n",
       "      <th>multi</th>\n",
       "      <th>biz</th>\n",
       "      <th>cleanliness_rating</th>\n",
       "      <th>guest_satisfaction_overall</th>\n",
       "      <th>...</th>\n",
       "      <th>dist</th>\n",
       "      <th>metro_dist</th>\n",
       "      <th>attr_index</th>\n",
       "      <th>attr_index_norm</th>\n",
       "      <th>rest_index</th>\n",
       "      <th>rest_index_norm</th>\n",
       "      <th>lng</th>\n",
       "      <th>lat</th>\n",
       "      <th>dataType</th>\n",
       "      <th>city</th>\n",
       "    </tr>\n",
       "  </thead>\n",
       "  <tbody>\n",
       "    <tr>\n",
       "      <th>54535</th>\n",
       "      <td>715.938574</td>\n",
       "      <td>Entire home/apt</td>\n",
       "      <td>False</td>\n",
       "      <td>False</td>\n",
       "      <td>6.0</td>\n",
       "      <td>False</td>\n",
       "      <td>0</td>\n",
       "      <td>1</td>\n",
       "      <td>10.0</td>\n",
       "      <td>100.0</td>\n",
       "      <td>...</td>\n",
       "      <td>0.530181</td>\n",
       "      <td>0.135447</td>\n",
       "      <td>219.402478</td>\n",
       "      <td>15.712158</td>\n",
       "      <td>438.756874</td>\n",
       "      <td>10.604584</td>\n",
       "      <td>16.37940</td>\n",
       "      <td>48.21136</td>\n",
       "      <td>Weekend</td>\n",
       "      <td>Vienna</td>\n",
       "    </tr>\n",
       "    <tr>\n",
       "      <th>54536</th>\n",
       "      <td>304.793960</td>\n",
       "      <td>Entire home/apt</td>\n",
       "      <td>False</td>\n",
       "      <td>False</td>\n",
       "      <td>2.0</td>\n",
       "      <td>False</td>\n",
       "      <td>0</td>\n",
       "      <td>0</td>\n",
       "      <td>8.0</td>\n",
       "      <td>86.0</td>\n",
       "      <td>...</td>\n",
       "      <td>0.810205</td>\n",
       "      <td>0.100839</td>\n",
       "      <td>204.970121</td>\n",
       "      <td>14.678608</td>\n",
       "      <td>342.182813</td>\n",
       "      <td>8.270427</td>\n",
       "      <td>16.38070</td>\n",
       "      <td>48.20296</td>\n",
       "      <td>Weekend</td>\n",
       "      <td>Vienna</td>\n",
       "    </tr>\n",
       "    <tr>\n",
       "      <th>54537</th>\n",
       "      <td>637.168969</td>\n",
       "      <td>Entire home/apt</td>\n",
       "      <td>False</td>\n",
       "      <td>False</td>\n",
       "      <td>2.0</td>\n",
       "      <td>False</td>\n",
       "      <td>0</td>\n",
       "      <td>0</td>\n",
       "      <td>10.0</td>\n",
       "      <td>93.0</td>\n",
       "      <td>...</td>\n",
       "      <td>0.994051</td>\n",
       "      <td>0.202539</td>\n",
       "      <td>169.073402</td>\n",
       "      <td>12.107921</td>\n",
       "      <td>282.296424</td>\n",
       "      <td>6.822996</td>\n",
       "      <td>16.38568</td>\n",
       "      <td>48.20460</td>\n",
       "      <td>Weekend</td>\n",
       "      <td>Vienna</td>\n",
       "    </tr>\n",
       "    <tr>\n",
       "      <th>54538</th>\n",
       "      <td>301.054157</td>\n",
       "      <td>Private room</td>\n",
       "      <td>False</td>\n",
       "      <td>True</td>\n",
       "      <td>2.0</td>\n",
       "      <td>False</td>\n",
       "      <td>0</td>\n",
       "      <td>0</td>\n",
       "      <td>10.0</td>\n",
       "      <td>87.0</td>\n",
       "      <td>...</td>\n",
       "      <td>3.044100</td>\n",
       "      <td>0.287435</td>\n",
       "      <td>109.236574</td>\n",
       "      <td>7.822803</td>\n",
       "      <td>158.563398</td>\n",
       "      <td>3.832416</td>\n",
       "      <td>16.34100</td>\n",
       "      <td>48.19200</td>\n",
       "      <td>Weekend</td>\n",
       "      <td>Vienna</td>\n",
       "    </tr>\n",
       "    <tr>\n",
       "      <th>54539</th>\n",
       "      <td>133.230489</td>\n",
       "      <td>Private room</td>\n",
       "      <td>False</td>\n",
       "      <td>True</td>\n",
       "      <td>4.0</td>\n",
       "      <td>True</td>\n",
       "      <td>1</td>\n",
       "      <td>0</td>\n",
       "      <td>10.0</td>\n",
       "      <td>93.0</td>\n",
       "      <td>...</td>\n",
       "      <td>1.263932</td>\n",
       "      <td>0.480903</td>\n",
       "      <td>150.450381</td>\n",
       "      <td>10.774264</td>\n",
       "      <td>225.247293</td>\n",
       "      <td>5.444140</td>\n",
       "      <td>16.39066</td>\n",
       "      <td>48.20811</td>\n",
       "      <td>Weekend</td>\n",
       "      <td>Vienna</td>\n",
       "    </tr>\n",
       "  </tbody>\n",
       "</table>\n",
       "<p>5 rows × 21 columns</p>\n",
       "</div>"
      ],
      "text/plain": [
       "          realSum        room_type  room_shared  room_private  \\\n",
       "54535  715.938574  Entire home/apt        False         False   \n",
       "54536  304.793960  Entire home/apt        False         False   \n",
       "54537  637.168969  Entire home/apt        False         False   \n",
       "54538  301.054157     Private room        False          True   \n",
       "54539  133.230489     Private room        False          True   \n",
       "\n",
       "       person_capacity  host_is_superhost  multi  biz  cleanliness_rating  \\\n",
       "54535              6.0              False      0    1                10.0   \n",
       "54536              2.0              False      0    0                 8.0   \n",
       "54537              2.0              False      0    0                10.0   \n",
       "54538              2.0              False      0    0                10.0   \n",
       "54539              4.0               True      1    0                10.0   \n",
       "\n",
       "       guest_satisfaction_overall  ...      dist  metro_dist  attr_index  \\\n",
       "54535                       100.0  ...  0.530181    0.135447  219.402478   \n",
       "54536                        86.0  ...  0.810205    0.100839  204.970121   \n",
       "54537                        93.0  ...  0.994051    0.202539  169.073402   \n",
       "54538                        87.0  ...  3.044100    0.287435  109.236574   \n",
       "54539                        93.0  ...  1.263932    0.480903  150.450381   \n",
       "\n",
       "       attr_index_norm  rest_index  rest_index_norm       lng       lat  \\\n",
       "54535        15.712158  438.756874        10.604584  16.37940  48.21136   \n",
       "54536        14.678608  342.182813         8.270427  16.38070  48.20296   \n",
       "54537        12.107921  282.296424         6.822996  16.38568  48.20460   \n",
       "54538         7.822803  158.563398         3.832416  16.34100  48.19200   \n",
       "54539        10.774264  225.247293         5.444140  16.39066  48.20811   \n",
       "\n",
       "       dataType    city  \n",
       "54535   Weekend  Vienna  \n",
       "54536   Weekend  Vienna  \n",
       "54537   Weekend  Vienna  \n",
       "54538   Weekend  Vienna  \n",
       "54539   Weekend  Vienna  \n",
       "\n",
       "[5 rows x 21 columns]"
      ]
     },
     "execution_count": 14,
     "metadata": {},
     "output_type": "execute_result"
    }
   ],
   "source": [
    "df.tail()"
   ]
  },
  {
   "cell_type": "code",
   "execution_count": 15,
   "id": "ba076c04",
   "metadata": {},
   "outputs": [],
   "source": [
    "#Sava the clean dataset\n",
    "#df_save = df.to_csv('~/Downloads/DAA/archive/clean_global_dataset.csv')"
   ]
  },
  {
   "cell_type": "code",
   "execution_count": 18,
   "id": "5e3e63ee",
   "metadata": {},
   "outputs": [
    {
     "data": {
      "text/plain": [
       "<Axes: >"
      ]
     },
     "execution_count": 18,
     "metadata": {},
     "output_type": "execute_result"
    },
    {
     "data": {
      "image/png": "[encoded data removed]",
      "text/plain": [
       "<Figure size 1600x1600 with 2 Axes>"
      ]
     },
     "metadata": {},
     "output_type": "display_data"
    }
   ],
   "source": [
    "# -------------------------------------------------------------------------\n",
    "#We start our data analysis by doing a general multivariate analysis just to quickly oversee some info\n",
    "corr_matrix = df.corr(numeric_only=True)\n",
    "f,ax = plt.subplots(figsize=(16,16))\n",
    "sns.heatmap(corr_matrix, vmin=-1,vmax=1, square=True, annot=True)"
   ]
  },
  {
   "cell_type": "code",
   "execution_count": null,
   "id": "47e0ea6a",
   "metadata": {},
   "outputs": [],
   "source": [
    "#As we can see from the correlation matrix (and as earlier predicted), the 'attr_index' and 'attr_index_norm' seem\n",
    "#to be giving redundant data. The same goes for 'rest_index' and 'rest_index_norm'.\n",
    "#Since this is the case, we will simply drop the normalized versions, since we cannot verify the calculations made,\n",
    "#and we'd rather work with raw data\n",
    "\n",
    "#df = df.drop(['attr_index_norm'], axis=1)\n",
    "#df = df.drop(['rest_index_norm'], axis=1)"
   ]
  },
  {
   "cell_type": "code",
   "execution_count": null,
   "id": "2da7889d",
   "metadata": {},
   "outputs": [],
   "source": [
    "#Extra info -\n",
    "count_wd = len(df[df[\"dataType\"]==\"Weekday\"])\n",
    "count_we = len(df[df[\"dataType\"]==\"Weekend\"])\n",
    "count = count_wd + count_we\n",
    "perc1 = (100*count_we)/count\n",
    "perc2 = (100*count_wd)/count\n",
    "\n",
    "Amsterdam_l = len(df[df[\"city\"]==\"Amsterdam\"])\n",
    "Athens_l = len(df[df[\"city\"]==\"Athens\"])\n",
    "Barcelona_l = len(df[df[\"city\"]==\"Barcelona\"])\n",
    "Berlin_l = len(df[df[\"city\"]==\"Berlin\"])\n",
    "Budapest_l = len(df[df[\"city\"]==\"Budapest\"])\n",
    "Lisbon_l = len(df[df[\"city\"]==\"Lisbon\"])\n",
    "London_l = len(df[df[\"city\"]==\"London\"])\n",
    "Paris_l = len(df[df[\"city\"]==\"Paris\"])\n",
    "Rome_l = len(df[df[\"city\"]==\"Rome\"])\n",
    "Vienna_l = len(df[df[\"city\"]==\"Vienna\"])\n",
    "\n",
    "globalC = len(df)\n",
    "\n",
    "#Some important data must be known\n",
    "print(\"~~~ DATA AMOUNT ~~~\")\n",
    "print(\"Rows of data categorized as weekend data: \" +str(count_we))\n",
    "print(\"Rows of data categorized as weekday data: \" +str(count_wd))\n",
    "print(\"Overall \" + str(perc1) + \"% of weekend data and \" + str(perc2) + \"% of weekday data\")\n",
    "\n",
    "print(\"\\n\")\n",
    "print(\"Rows of data categorized as Amsterdam data: \" + str(Amsterdam_l))\n",
    "print(\"Rows of data categorized as Athens data: \" +str(Athens_l))\n",
    "print(\"Rows of data categorized as Barcelona data: \" +str(Barcelona_l))\n",
    "print(\"Rows of data categorized as Berlin data: \" + str(Berlin_l))\n",
    "print(\"Rows of data categorized as Budapest data: \" +str(Budapest_l))\n",
    "print(\"Rows of data categorized as Lisbon data: \" +str(Lisbon_l))\n",
    "print(\"Rows of data categorized as London data: \" + str(London_l))\n",
    "print(\"Rows of data categorized as Paris data: \" +str(Paris_l))\n",
    "print(\"Rows of data categorized as Rome data: \" +str(Rome_l))\n",
    "print(\"Rows of data categorized as Vienna data: \" +str(Vienna_l))\n",
    "\n",
    "\n",
    "print(\"\\n\")\n",
    "print(\"Total rows of data: \" +str(globalC))\n",
    "\n",
    "print(\"~~~~~~~~~~~~~~~~~~~\")"
   ]
  },
  {
   "cell_type": "code",
   "execution_count": null,
   "id": "fc987eed",
   "metadata": {},
   "outputs": [],
   "source": [
    "# -------------------------------------------------------------------------\n",
    "#Analysis of cleanliness_rating\n",
    "\n",
    "def plot_city_count(city):\n",
    "    cityData = df[df[\"city\"] == city]\n",
    "    sns.countplot(data=cityData, x=\"cleanliness_rating\")\n",
    "    plt.show()\n",
    "\n",
    "# Create an interactive selection widget with a dropdown list of cities\n",
    "city_selector = widgets.Dropdown(\n",
    "    options=cities,\n",
    "    description=\"Select City\",\n",
    "    disabled=False,\n",
    ")\n",
    "\n",
    "# Use the 'interact' function to dynamically update the plot based on the selected city\n",
    "interact(plot_city_count, city=city_selector)\n",
    "\n",
    "plt.show()\n"
   ]
  },
  {
   "cell_type": "code",
   "execution_count": null,
   "id": "9f0c92c0",
   "metadata": {
    "scrolled": true
   },
   "outputs": [],
   "source": [
    "def plot_city_kde(city):\n",
    "    cityData = df[df[\"city\"] == city]\n",
    "    sns.kdeplot(data=cityData, x=\"cleanliness_rating\")\n",
    "    plt.show()\n",
    "\n",
    "# Use the 'interact' function to dynamically update the plot based on the selected city\n",
    "interact(plot_city_kde, city=city_selector)\n",
    "\n",
    "plt.show()"
   ]
  },
  {
   "cell_type": "code",
   "execution_count": null,
   "id": "c815fde5",
   "metadata": {},
   "outputs": [],
   "source": [
    "# -------------------------------------------------------------------------\n",
    "# Machine Learning"
   ]
  },
  {
   "cell_type": "code",
   "execution_count": null,
   "id": "b74480f9",
   "metadata": {},
   "outputs": [],
   "source": [
    "#Applying unsupervised k-means on global values of distance to metro by distance to city center\n",
    "# we start by preparing the data"
   ]
  },
  {
   "cell_type": "code",
   "execution_count": null,
   "id": "fc8143c6",
   "metadata": {},
   "outputs": [],
   "source": [
    "X = df['dist']\n",
    "y = df['realSum']\n",
    "\n",
    "#pca = PCA(2)\n",
    "#data2 = pca.fit_transform(data)\n",
    "#print(data2)"
   ]
  },
  {
   "cell_type": "code",
   "execution_count": null,
   "id": "84c0e993",
   "metadata": {},
   "outputs": [],
   "source": [
    "plt.scatter(X, y)\n",
    "plt.show()"
   ]
  },
  {
   "cell_type": "code",
   "execution_count": null,
   "id": "ce76f5e9",
   "metadata": {},
   "outputs": [],
   "source": [
    "# to find out a good number of clusters, we apply the elbow technique\n",
    "data = list(zip(X, y))\n",
    "inertias = []\n",
    "\n",
    "for i in range(1, 11):\n",
    "    kmeans = KMeans(n_clusters=i, n_init = 'auto')\n",
    "    kmeans.fit(data)\n",
    "    inertias.append(kmeans.inertia_)\n",
    "    \n",
    "\n",
    "plt.plot(range(1,11), inertias, marker='o')\n",
    "plt.title('K.means')\n",
    "plt.xlabel('Number of clusters')\n",
    "plt.ylabel('Inertia')\n",
    "plt.show() "
   ]
  },
  {
   "cell_type": "code",
   "execution_count": null,
   "id": "1d6ca46d",
   "metadata": {},
   "outputs": [],
   "source": [
    "#there doesn't seem to be a \"good\" amount of clusters"
   ]
  },
  {
   "cell_type": "code",
   "execution_count": null,
   "id": "eaa52022",
   "metadata": {},
   "outputs": [],
   "source": [
    "kmeans = KMeans (n_clusters = 3, n_init = 10, random_state = 2022)\n",
    "kmeans.fit(data)"
   ]
  },
  {
   "cell_type": "code",
   "execution_count": null,
   "id": "c37ec62c",
   "metadata": {},
   "outputs": [],
   "source": [
    "kmeans.cluster_centers_"
   ]
  },
  {
   "cell_type": "code",
   "execution_count": null,
   "id": "ec07a8d3",
   "metadata": {},
   "outputs": [],
   "source": [
    "kmeans.labels_"
   ]
  },
  {
   "cell_type": "code",
   "execution_count": null,
   "id": "0f097c6a",
   "metadata": {},
   "outputs": [],
   "source": [
    "plt.scatter(X, y, c = kmeans.labels_, cmap = 'rainbow')\n",
    "\n",
    "plt.xlabel(\"dist\")\n",
    "plt.ylabel(\"metro_dist\")"
   ]
  },
  {
   "cell_type": "code",
   "execution_count": null,
   "id": "1ca96bc8",
   "metadata": {},
   "outputs": [],
   "source": []
  },
  {
   "cell_type": "code",
   "execution_count": null,
   "id": "efa753c7",
   "metadata": {},
   "outputs": [],
   "source": [
    "print(X)\n",
    "#Xf = kmeans.fit_transform(X)"
   ]
  },
  {
   "cell_type": "code",
   "execution_count": null,
   "id": "6e95a39a",
   "metadata": {},
   "outputs": [],
   "source": [
    "#### Neural Network\n",
    "newdf.info()"
   ]
  },
  {
   "cell_type": "code",
   "execution_count": null,
   "id": "ee32ab6a",
   "metadata": {},
   "outputs": [],
   "source": [
    "newdf = df\n",
    "#newdf = df.drop('dataType', 'city', 'room_type')\n",
    "newdf['dataType'] = pd.factorize(newdf['dataType'], sort=True)[0] + 1\n",
    "newdf['city'] = pd.factorize(newdf['city'], sort=True)[0] + 1\n",
    "newdf['room_type'] = pd.factorize(newdf['room_type'], sort=True)[0] + 1"
   ]
  },
  {
   "cell_type": "code",
   "execution_count": null,
   "id": "3b15b6a0",
   "metadata": {},
   "outputs": [],
   "source": [
    "newdf.tail()"
   ]
  },
  {
   "cell_type": "code",
   "execution_count": null,
   "id": "64ebb240",
   "metadata": {},
   "outputs": [],
   "source": [
    "x = newdf.drop('realSum', axis = 1)\n",
    "y = newdf[['realSum']]"
   ]
  },
  {
   "cell_type": "code",
   "execution_count": null,
   "id": "1de0ba6d",
   "metadata": {},
   "outputs": [],
   "source": [
    "xtr, xt, ytr, yt = train_test_split(x, y, test_size = 0.2, random_state= 2021)"
   ]
  },
  {
   "cell_type": "code",
   "execution_count": 19,
   "id": "4fbb22e3",
   "metadata": {},
   "outputs": [],
   "source": [
    "# -------------------------------------------------------------------------\n",
    "\n",
    "\n",
    "\n",
    "\n",
    "\n",
    "\n",
    "\n",
    "### Problem: How can we predict overall guest satisfaction?"
   ]
  },
  {
   "cell_type": "code",
   "execution_count": 20,
   "id": "579f4b46",
   "metadata": {},
   "outputs": [],
   "source": [
    "#How much is overall guest satisfaction influenced by the other variables?"
   ]
  },
  {
   "cell_type": "code",
   "execution_count": 21,
   "id": "5aa03f5b",
   "metadata": {},
   "outputs": [],
   "source": [
    "#transforming categorical data into numerical data\n",
    "df_cities = pd.get_dummies(df.city)\n",
    "df_room_type = pd.get_dummies(df.room_type)\n",
    "df_dataType = pd.get_dummies(df.dataType)\n",
    "\n",
    "df_new = pd.concat([df, df_cities, df_room_type, df_dataType], axis=1)\n",
    "df_new = df_new.drop(columns=['dataType', 'city', 'room_type'], axis=1)"
   ]
  },
  {
   "cell_type": "code",
   "execution_count": 22,
   "id": "ad2a2785",
   "metadata": {},
   "outputs": [],
   "source": [
    "X = df_new.drop(['guest_satisfaction_overall'], axis=1)\n",
    "y = df_new['guest_satisfaction_overall'].to_frame()"
   ]
  },
  {
   "cell_type": "code",
   "execution_count": 23,
   "id": "5b2e606d",
   "metadata": {},
   "outputs": [
    {
     "name": "stdout",
     "output_type": "stream",
     "text": [
      "<class 'pandas.core.frame.DataFrame'>\n",
      "RangeIndex: 54540 entries, 0 to 54539\n",
      "Data columns (total 33 columns):\n",
      " #   Column                      Non-Null Count  Dtype  \n",
      "---  ------                      --------------  -----  \n",
      " 0   realSum                     54540 non-null  float64\n",
      " 1   room_shared                 54540 non-null  bool   \n",
      " 2   room_private                54540 non-null  bool   \n",
      " 3   person_capacity             54540 non-null  float64\n",
      " 4   host_is_superhost           54540 non-null  bool   \n",
      " 5   multi                       54540 non-null  int64  \n",
      " 6   biz                         54540 non-null  int64  \n",
      " 7   cleanliness_rating          54540 non-null  float64\n",
      " 8   guest_satisfaction_overall  54540 non-null  float64\n",
      " 9   bedrooms                    54540 non-null  int64  \n",
      " 10  dist                        54540 non-null  float64\n",
      " 11  metro_dist                  54540 non-null  float64\n",
      " 12  attr_index                  54540 non-null  float64\n",
      " 13  attr_index_norm             54540 non-null  float64\n",
      " 14  rest_index                  54540 non-null  float64\n",
      " 15  rest_index_norm             54540 non-null  float64\n",
      " 16  lng                         54540 non-null  float64\n",
      " 17  lat                         54540 non-null  float64\n",
      " 18  Amsterdam                   54540 non-null  bool   \n",
      " 19  Athens                      54540 non-null  bool   \n",
      " 20  Barcelona                   54540 non-null  bool   \n",
      " 21  Berlin                      54540 non-null  bool   \n",
      " 22  Budapest                    54540 non-null  bool   \n",
      " 23  Lisbon                      54540 non-null  bool   \n",
      " 24  London                      54540 non-null  bool   \n",
      " 25  Paris                       54540 non-null  bool   \n",
      " 26  Rome                        54540 non-null  bool   \n",
      " 27  Vienna                      54540 non-null  bool   \n",
      " 28  Entire home/apt             54540 non-null  bool   \n",
      " 29  Private room                54540 non-null  bool   \n",
      " 30  Shared room                 54540 non-null  bool   \n",
      " 31  Weekday                     54540 non-null  bool   \n",
      " 32  Weekend                     54540 non-null  bool   \n",
      "dtypes: bool(18), float64(12), int64(3)\n",
      "memory usage: 7.2 MB\n"
     ]
    }
   ],
   "source": [
    "df_new.info()"
   ]
  },
  {
   "cell_type": "code",
   "execution_count": 24,
   "id": "b5286e7e",
   "metadata": {},
   "outputs": [],
   "source": [
    "X_train, X_test, y_train, y_test = train_test_split(X, y, test_size = 0.4, random_state= 2021)"
   ]
  },
  {
   "cell_type": "code",
   "execution_count": 25,
   "id": "03c38607",
   "metadata": {},
   "outputs": [
    {
     "name": "stdout",
     "output_type": "stream",
     "text": [
      "Shape of X: (54540, 32). \n",
      " X_train shape: (32724, 32) \n",
      " X_test shape (21816, 32)\n"
     ]
    }
   ],
   "source": [
    "print(\"Shape of X: %s. \\n X_train shape: %s \\n X_test shape %s\" %(X.shape, X_train.shape, X_test.shape))"
   ]
  },
  {
   "cell_type": "code",
   "execution_count": 26,
   "id": "355c07fc",
   "metadata": {},
   "outputs": [
    {
     "name": "stdout",
     "output_type": "stream",
     "text": [
      "Shape of y: (54540, 1). \n",
      " y_train shape: (32724, 1) \n",
      " y_test shape (21816, 1)\n"
     ]
    }
   ],
   "source": [
    "print(\"Shape of y: %s. \\n y_train shape: %s \\n y_test shape %s\" %(y.shape, y_train.shape, y_test.shape))"
   ]
  },
  {
   "cell_type": "code",
   "execution_count": 27,
   "id": "b56ac01a",
   "metadata": {},
   "outputs": [
    {
     "data": {
      "text/html": [
       "<style>#sk-container-id-1 {color: black;}#sk-container-id-1 pre{padding: 0;}#sk-container-id-1 div.sk-toggleable {background-color: white;}#sk-container-id-1 label.sk-toggleable__label {cursor: pointer;display: block;width: 100%;margin-bottom: 0;padding: 0.3em;box-sizing: border-box;text-align: center;}#sk-container-id-1 label.sk-toggleable__label-arrow:before {content: \"▸\";float: left;margin-right: 0.25em;color: #696969;}#sk-container-id-1 label.sk-toggleable__label-arrow:hover:before {color: black;}#sk-container-id-1 div.sk-estimator:hover label.sk-toggleable__label-arrow:before {color: black;}#sk-container-id-1 div.sk-toggleable__content {max-height: 0;max-width: 0;overflow: hidden;text-align: left;background-color: #f0f8ff;}#sk-container-id-1 div.sk-toggleable__content pre {margin: 0.2em;color: black;border-radius: 0.25em;background-color: #f0f8ff;}#sk-container-id-1 input.sk-toggleable__control:checked~div.sk-toggleable__content {max-height: 200px;max-width: 100%;overflow: auto;}#sk-container-id-1 input.sk-toggleable__control:checked~label.sk-toggleable__label-arrow:before {content: \"▾\";}#sk-container-id-1 div.sk-estimator input.sk-toggleable__control:checked~label.sk-toggleable__label {background-color: #d4ebff;}#sk-container-id-1 div.sk-label input.sk-toggleable__control:checked~label.sk-toggleable__label {background-color: #d4ebff;}#sk-container-id-1 input.sk-hidden--visually {border: 0;clip: rect(1px 1px 1px 1px);clip: rect(1px, 1px, 1px, 1px);height: 1px;margin: -1px;overflow: hidden;padding: 0;position: absolute;width: 1px;}#sk-container-id-1 div.sk-estimator {font-family: monospace;background-color: #f0f8ff;border: 1px dotted black;border-radius: 0.25em;box-sizing: border-box;margin-bottom: 0.5em;}#sk-container-id-1 div.sk-estimator:hover {background-color: #d4ebff;}#sk-container-id-1 div.sk-parallel-item::after {content: \"\";width: 100%;border-bottom: 1px solid gray;flex-grow: 1;}#sk-container-id-1 div.sk-label:hover label.sk-toggleable__label {background-color: #d4ebff;}#sk-container-id-1 div.sk-serial::before {content: \"\";position: absolute;border-left: 1px solid gray;box-sizing: border-box;top: 0;bottom: 0;left: 50%;z-index: 0;}#sk-container-id-1 div.sk-serial {display: flex;flex-direction: column;align-items: center;background-color: white;padding-right: 0.2em;padding-left: 0.2em;position: relative;}#sk-container-id-1 div.sk-item {position: relative;z-index: 1;}#sk-container-id-1 div.sk-parallel {display: flex;align-items: stretch;justify-content: center;background-color: white;position: relative;}#sk-container-id-1 div.sk-item::before, #sk-container-id-1 div.sk-parallel-item::before {content: \"\";position: absolute;border-left: 1px solid gray;box-sizing: border-box;top: 0;bottom: 0;left: 50%;z-index: -1;}#sk-container-id-1 div.sk-parallel-item {display: flex;flex-direction: column;z-index: 1;position: relative;background-color: white;}#sk-container-id-1 div.sk-parallel-item:first-child::after {align-self: flex-end;width: 50%;}#sk-container-id-1 div.sk-parallel-item:last-child::after {align-self: flex-start;width: 50%;}#sk-container-id-1 div.sk-parallel-item:only-child::after {width: 0;}#sk-container-id-1 div.sk-dashed-wrapped {border: 1px dashed gray;margin: 0 0.4em 0.5em 0.4em;box-sizing: border-box;padding-bottom: 0.4em;background-color: white;}#sk-container-id-1 div.sk-label label {font-family: monospace;font-weight: bold;display: inline-block;line-height: 1.2em;}#sk-container-id-1 div.sk-label-container {text-align: center;}#sk-container-id-1 div.sk-container {/* jupyter's `normalize.less` sets `[hidden] { display: none; }` but bootstrap.min.css set `[hidden] { display: none !important; }` so we also need the `!important` here to be able to override the default hidden behavior on the sphinx rendered scikit-learn.org. See: https://github.com/scikit-learn/scikit-learn/issues/21755 */display: inline-block !important;position: relative;}#sk-container-id-1 div.sk-text-repr-fallback {display: none;}</style><div id=\"sk-container-id-1\" class=\"sk-top-container\"><div class=\"sk-text-repr-fallback\"><pre>DecisionTreeClassifier()</pre><b>In a Jupyter environment, please rerun this cell to show the HTML representation or trust the notebook. <br />On GitHub, the HTML representation is unable to render, please try loading this page with nbviewer.org.</b></div><div class=\"sk-container\" hidden><div class=\"sk-item\"><div class=\"sk-estimator sk-toggleable\"><input class=\"sk-toggleable__control sk-hidden--visually\" id=\"sk-estimator-id-1\" type=\"checkbox\" checked><label for=\"sk-estimator-id-1\" class=\"sk-toggleable__label sk-toggleable__label-arrow\">DecisionTreeClassifier</label><div class=\"sk-toggleable__content\"><pre>DecisionTreeClassifier()</pre></div></div></div></div></div>"
      ],
      "text/plain": [
       "DecisionTreeClassifier()"
      ]
     },
     "execution_count": 27,
     "metadata": {},
     "output_type": "execute_result"
    }
   ],
   "source": [
    "clf = DecisionTreeClassifier()\n",
    "clf.fit(X_train, y_train)"
   ]
  },
  {
   "cell_type": "code",
   "execution_count": 28,
   "id": "8fb07053",
   "metadata": {},
   "outputs": [
    {
     "name": "stdout",
     "output_type": "stream",
     "text": [
      "model score - train: 1.000\n",
      "model score - test: 0.459\n"
     ]
    }
   ],
   "source": [
    "print(\"model score - train: %.3f\" % clf.score(X_train, y_train))\n",
    "print(\"model score - test: %.3f\" % clf.score(X_test, y_test))"
   ]
  },
  {
   "cell_type": "code",
   "execution_count": 29,
   "id": "3280c861",
   "metadata": {},
   "outputs": [
    {
     "data": {
      "text/plain": [
       "array([ 97.,  94.,  90., ...,  86., 100.,  94.])"
      ]
     },
     "execution_count": 29,
     "metadata": {},
     "output_type": "execute_result"
    }
   ],
   "source": [
    "y_pred = clf.predict(X_test)\n",
    "y_pred"
   ]
  },
  {
   "cell_type": "code",
   "execution_count": 30,
   "id": "849847da",
   "metadata": {},
   "outputs": [
    {
     "data": {
      "text/plain": [
       "array([[  57,    0,    3, ...,    1,    0,    2],\n",
       "       [   0,    3,    0, ...,    0,    0,    0],\n",
       "       [   1,    0,   29, ...,    2,    0,    1],\n",
       "       ...,\n",
       "       [   0,    0,    0, ...,  681,  128,  258],\n",
       "       [   0,    0,    0, ...,  123,  421,  138],\n",
       "       [   2,    0,    1, ...,  226,  144, 2669]])"
      ]
     },
     "execution_count": 30,
     "metadata": {},
     "output_type": "execute_result"
    }
   ],
   "source": [
    "confusion_matrix(y_test, y_pred)"
   ]
  },
  {
   "cell_type": "code",
   "execution_count": 31,
   "id": "2fefb91d",
   "metadata": {},
   "outputs": [
    {
     "name": "stdout",
     "output_type": "stream",
     "text": [
      "accuracy score: 0.4590\n",
      "precision score: 0.4590\n",
      "recall score: 0.4590\n",
      "f1 score: 0.4590\n"
     ]
    }
   ],
   "source": [
    "#DecisionTreeClassifier\n",
    "print('accuracy score: %.4f' % accuracy_score(y_test,y_pred))\n",
    "print('precision score: %.4f' % precision_score(y_test,y_pred, average='micro'))\n",
    "print('recall score: %.4f' % recall_score(y_test,y_pred, average='micro'))\n",
    "print('f1 score: %.4f' % f1_score(y_test,y_pred, average='micro'))"
   ]
  },
  {
   "cell_type": "code",
   "execution_count": 32,
   "id": "10a26226",
   "metadata": {},
   "outputs": [
    {
     "data": {
      "text/plain": [
       "Text(0, 0.5, 'predicted y')"
      ]
     },
     "execution_count": 32,
     "metadata": {},
     "output_type": "execute_result"
    },
    {
     "data": {
      "image/png": "[encoded data removed]",
      "text/plain": [
       "<Figure size 640x480 with 1 Axes>"
      ]
     },
     "metadata": {},
     "output_type": "display_data"
    }
   ],
   "source": [
    "plt.scatter(y_test,y_pred)\n",
    "plt.xlabel('true y')\n",
    "plt.ylabel('predicted y')"
   ]
  },
  {
   "cell_type": "code",
   "execution_count": 33,
   "id": "0858fcb9",
   "metadata": {},
   "outputs": [],
   "source": [
    "#Hyperparameter tuning - GridSearch\n",
    "parameters = {'criterion':['gini','entropy'],\n",
    "              'max_depth':np.arange(1,21).tolist()[0::2],\n",
    "              'min_samples_split':np.arange(2,11).tolist()[0::2],\n",
    "              'max_leaf_nodes':np.arange(3,26).tolist()[0::2]}"
   ]
  },
  {
   "cell_type": "code",
   "execution_count": 34,
   "id": "4834157a",
   "metadata": {},
   "outputs": [],
   "source": [
    "g1 = GridSearchCV(DecisionTreeClassifier(), parameters, cv=5, n_jobs=-1)"
   ]
  },
  {
   "cell_type": "code",
   "execution_count": 35,
   "id": "5377a6f4",
   "metadata": {},
   "outputs": [
    {
     "name": "stderr",
     "output_type": "stream",
     "text": [
      "/home/avt/miniconda3/envs/daaEnv/lib/python3.10/site-packages/sklearn/model_selection/_split.py:725: UserWarning: The least populated class in y has only 1 members, which is less than n_splits=5.\n",
      "  warnings.warn(\n"
     ]
    }
   ],
   "source": [
    "start_time = time.time()\n",
    "g1.fit(X_train,y_train)\n",
    "duration = time.time() - start_time"
   ]
  },
  {
   "cell_type": "code",
   "execution_count": 36,
   "id": "8f6e0d45",
   "metadata": {},
   "outputs": [
    {
     "data": {
      "text/plain": [
       "{'criterion': 'gini',\n",
       " 'max_depth': 5,\n",
       " 'max_leaf_nodes': 25,\n",
       " 'min_samples_split': 2}"
      ]
     },
     "execution_count": 36,
     "metadata": {},
     "output_type": "execute_result"
    }
   ],
   "source": [
    "cls_params1 = g1.best_params_\n",
    "cls_params1"
   ]
  },
  {
   "cell_type": "code",
   "execution_count": 37,
   "id": "a99a7f7e",
   "metadata": {},
   "outputs": [
    {
     "name": "stdout",
     "output_type": "stream",
     "text": [
      "accuracy score: 0.25\n",
      "precision score: 0.25\n",
      "recall score: 0.25\n",
      "f1 score: 0.25\n",
      "computation time: 453.86\n"
     ]
    }
   ],
   "source": [
    "model = g1.best_estimator_\n",
    "y_pred = model.predict(X_test)\n",
    "print('accuracy score: %.2f' % accuracy_score(y_test,y_pred))\n",
    "print('precision score: %.2f' % precision_score(y_test,y_pred, average='micro'))\n",
    "print('recall score: %.2f' % recall_score(y_test,y_pred, average='micro'))\n",
    "print('f1 score: %.2f' % f1_score(y_test,y_pred, average='micro'))\n",
    "print('computation time: %.2f' % duration)"
   ]
  },
  {
   "cell_type": "code",
   "execution_count": 38,
   "id": "7d8877ab",
   "metadata": {},
   "outputs": [],
   "source": [
    "#Hyperparameter tuning - Randomised Search"
   ]
  },
  {
   "cell_type": "code",
   "execution_count": 39,
   "id": "0019c9e8",
   "metadata": {},
   "outputs": [],
   "source": [
    "parameters = {'criterion':['gini','entropy'],\n",
    "              'max_depth':poisson(mu=2,loc=2),\n",
    "              'min_samples_split':uniform(),\n",
    "              'max_leaf_nodes':poisson(mu=4,loc=3)}"
   ]
  },
  {
   "cell_type": "code",
   "execution_count": 40,
   "id": "266a895a",
   "metadata": {},
   "outputs": [],
   "source": [
    "r1 = RandomizedSearchCV(DecisionTreeClassifier(), parameters, cv=5, n_iter=100, random_state=42, n_jobs=-1)"
   ]
  },
  {
   "cell_type": "code",
   "execution_count": 41,
   "id": "a8ab4980",
   "metadata": {},
   "outputs": [
    {
     "name": "stderr",
     "output_type": "stream",
     "text": [
      "/home/avt/miniconda3/envs/daaEnv/lib/python3.10/site-packages/sklearn/model_selection/_split.py:725: UserWarning: The least populated class in y has only 1 members, which is less than n_splits=5.\n",
      "  warnings.warn(\n"
     ]
    }
   ],
   "source": [
    "start_time = time.time()\n",
    "r1.fit(X_train,y_train)\n",
    "duration = time.time() - start_time"
   ]
  },
  {
   "cell_type": "code",
   "execution_count": 42,
   "id": "e2a786ba",
   "metadata": {},
   "outputs": [
    {
     "data": {
      "text/plain": [
       "{'criterion': 'gini',\n",
       " 'max_depth': 4,\n",
       " 'max_leaf_nodes': 11,\n",
       " 'min_samples_split': 863.0}"
      ]
     },
     "execution_count": 42,
     "metadata": {},
     "output_type": "execute_result"
    }
   ],
   "source": [
    "cls_params2 = r1.best_params_\n",
    "cls_params2['min_samples_split'] = np.ceil(cls_params2['min_samples_split']*X_train.shape[0])\n",
    "cls_params2"
   ]
  },
  {
   "cell_type": "code",
   "execution_count": 45,
   "id": "dec3b856",
   "metadata": {},
   "outputs": [
    {
     "name": "stdout",
     "output_type": "stream",
     "text": [
      "accuracy score: 0.25\n",
      "precision score: 0.25\n",
      "recall score: 0.25\n",
      "f1 score: 0.25\n",
      "computation time: 25.09\n"
     ]
    }
   ],
   "source": [
    "model = r1.best_estimator_\n",
    "y_pred = model.predict(X_test)\n",
    "print('accuracy score: %.2f' % accuracy_score(y_test,y_pred))\n",
    "print('precision score: %.2f' % precision_score(y_test,y_pred, average='micro'))\n",
    "print('recall score: %.2f' % recall_score(y_test,y_pred, average='micro'))\n",
    "print('f1 score: %.2f' % f1_score(y_test,y_pred, average='micro'))\n",
    "print('computation time: %.2f' % duration)"
   ]
  },
  {
   "cell_type": "code",
   "execution_count": null,
   "id": "eede0548",
   "metadata": {},
   "outputs": [],
   "source": []
  },
  {
   "cell_type": "code",
   "execution_count": null,
   "id": "8373dd02",
   "metadata": {},
   "outputs": [],
   "source": []
  }
 ],
 "metadata": {
  "kernelspec": {
   "display_name": "Python 3 (ipykernel)",
   "language": "python",
   "name": "python3"
  },
  "language_info": {
   "codemirror_mode": {
    "name": "ipython",
    "version": 3
   },
   "file_extension": ".py",
   "mimetype": "text/x-python",
   "name": "python",
   "nbconvert_exporter": "python",
   "pygments_lexer": "ipython3",
   "version": "3.10.13"
  }
 },
 "nbformat": 4,
 "nbformat_minor": 5
}
