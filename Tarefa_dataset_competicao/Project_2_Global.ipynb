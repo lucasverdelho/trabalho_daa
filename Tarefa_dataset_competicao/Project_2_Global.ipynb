{
 "cells": [
  {
   "cell_type": "code",
   "execution_count": null,
   "id": "db0a33c8",
   "metadata": {},
   "outputs": [],
   "source": [
    "#DATASETS:  https://www.kaggle.com/competitions/daasbstp2023/data"
   ]
  },
  {
   "cell_type": "code",
   "execution_count": 1,
   "id": "0847710c",
   "metadata": {},
   "outputs": [],
   "source": [
    "#Let's start by importing all packages needed.\n",
    "import sklearn as skl\n",
    "import pandas as pd\n",
    "import matplotlib.pyplot as plt\n",
    "from ipywidgets import interact, widgets\n",
    "import seaborn as sns\n",
    "from sklearn import preprocessing\n",
    "import numpy as np\n",
    "import time\n",
    "from dateutil import parser\n",
    "import pytz\n",
    "\n",
    "from sklearn.tree import DecisionTreeClassifier, DecisionTreeRegressor\n",
    "from sklearn.tree import plot_tree, export_text\n",
    "\n",
    "\n",
    "from sklearn.model_selection import GridSearchCV, RandomizedSearchCV, KFold, train_test_split\n",
    "from sklearn.pipeline import Pipeline\n",
    "from sklearn.impute import SimpleImputer\n",
    "from sklearn.preprocessing import OneHotEncoder\n",
    "from sklearn.compose import make_column_transformer, ColumnTransformer\n",
    "from sklearn.datasets import make_blobs\n",
    "from sklearn.decomposition import PCA\n",
    "from sklearn.linear_model import LinearRegression\n",
    "from sklearn.cluster import KMeans\n",
    "\n",
    "from scipy.stats import uniform, poisson\n",
    "\n",
    "from sklearn.metrics import confusion_matrix, \\\n",
    "                            accuracy_score, \\\n",
    "                            precision_score, \\\n",
    "                            recall_score, \\\n",
    "                            f1_score, \\\n",
    "                            fbeta_score, \\\n",
    "                            mean_squared_error, \\\n",
    "                            mean_absolute_error, \\\n",
    "                            roc_auc_score, \\\n",
    "                            roc_curve, \\\n",
    "                            classification_report\n"
   ]
  },
  {
   "cell_type": "markdown",
   "id": "57d4000a",
   "metadata": {},
   "source": [
    "# **Sample and Assess**"
   ]
  },
  {
   "cell_type": "code",
   "execution_count": 2,
   "id": "02b5b68d",
   "metadata": {},
   "outputs": [],
   "source": [
    "#Load the datasets.\n",
    "df_en1 = pd.read_csv('daasbstp2023/energia_202109-202112.csv', na_filter=False, encoding = \"latin\")\n",
    "df_en2 = pd.read_csv('daasbstp2023/energia_202201-202212.csv', na_filter=False, encoding = \"latin\")\n",
    "df_me1 = pd.read_csv('daasbstp2023/meteo_202109-202112.csv', na_filter=False, encoding = \"latin\")\n",
    "df_me2 = pd.read_csv('daasbstp2023/meteo_202201-202212.csv', na_filter=False, encoding = \"latin\")"
   ]
  },
  {
   "cell_type": "code",
   "execution_count": 3,
   "id": "6c6ff5df",
   "metadata": {},
   "outputs": [],
   "source": [
    "#Append the datasets by type.\n",
    "df_en = df_en1._append(df_en2,ignore_index=True)\n",
    "#df_en = df_en._append(df_en3,ignore_index=True)  #test X\n",
    "\n",
    "df_me = df_me1._append(df_me2,ignore_index=True)\n",
    "#df_me = df_me._append(df_me3,ignore_index=True)  #test X"
   ]
  },
  {
   "cell_type": "markdown",
   "id": "a1dfea1f",
   "metadata": {},
   "source": [
    "## Energy Consumption Dataset\n",
    "\n",
    "This dataset provides information on energy consumption recorded at different timestamps. Each record includes the following columns:\n",
    "\n",
    "- **Data (Date):** The timestamp associated with the record, indicating the date.\n",
    "- **Hora (Hour):** The hour associated with the record.\n",
    "- **Normal (kWh):** The amount of electrical energy consumed, in kilowatt-hours (kWh), from the electrical grid during a normal period in daily bi-hourly cycles (non-off-peak hours).\n",
    "- **Horário Económico (kWh):** The amount of electrical energy consumed, in kilowatt-hours (kWh), from the electrical grid during an economic period in daily bi-hourly cycles (off-peak hours).\n",
    "- **Autoconsumo (kWh):** The amount of electrical energy consumed, in kilowatt-hours (kWh), generated from solar panels (self-consumption).\n",
    "- **Injeção na rede (kWh):** A qualitative feature indicating the level of energy injection into the grid on a scale of None, Low, Medium, High, and Very High.\n",
    "\n",
    "This dataset is utilized in a competition and includes various features, with particular emphasis on the \"Injeção na rede (kWh)\" feature, which provides information about the qualitative scale of energy injection into the grid."
   ]
  },
  {
   "cell_type": "code",
   "execution_count": 4,
   "id": "6bb209be",
   "metadata": {},
   "outputs": [
    {
     "name": "stdout",
     "output_type": "stream",
     "text": [
      "<class 'pandas.core.frame.DataFrame'>\n",
      "RangeIndex: 11016 entries, 0 to 11015\n",
      "Data columns (total 6 columns):\n",
      " #   Column                   Non-Null Count  Dtype  \n",
      "---  ------                   --------------  -----  \n",
      " 0   Data                     11016 non-null  object \n",
      " 1   Hora                     11016 non-null  int64  \n",
      " 2   Normal (kWh)             11016 non-null  float64\n",
      " 3   Horário Económico (kWh)  11016 non-null  float64\n",
      " 4   Autoconsumo (kWh)        11016 non-null  float64\n",
      " 5   Injeção na rede (kWh)    11016 non-null  object \n",
      "dtypes: float64(3), int64(1), object(2)\n",
      "memory usage: 516.5+ KB\n"
     ]
    }
   ],
   "source": [
    "df_en.info()"
   ]
  },
  {
   "cell_type": "code",
   "execution_count": 5,
   "id": "79924f49",
   "metadata": {},
   "outputs": [
    {
     "data": {
      "text/html": [
       "<div>\n",
       "<style scoped>\n",
       "    .dataframe tbody tr th:only-of-type {\n",
       "        vertical-align: middle;\n",
       "    }\n",
       "\n",
       "    .dataframe tbody tr th {\n",
       "        vertical-align: top;\n",
       "    }\n",
       "\n",
       "    .dataframe thead th {\n",
       "        text-align: right;\n",
       "    }\n",
       "</style>\n",
       "<table border=\"1\" class=\"dataframe\">\n",
       "  <thead>\n",
       "    <tr style=\"text-align: right;\">\n",
       "      <th></th>\n",
       "      <th>Data</th>\n",
       "      <th>Hora</th>\n",
       "      <th>Normal (kWh)</th>\n",
       "      <th>Horário Económico (kWh)</th>\n",
       "      <th>Autoconsumo (kWh)</th>\n",
       "      <th>Injeção na rede (kWh)</th>\n",
       "    </tr>\n",
       "  </thead>\n",
       "  <tbody>\n",
       "    <tr>\n",
       "      <th>901</th>\n",
       "      <td>2021-11-05</td>\n",
       "      <td>13</td>\n",
       "      <td>0.0</td>\n",
       "      <td>0.0</td>\n",
       "      <td>0.274</td>\n",
       "      <td>Very High</td>\n",
       "    </tr>\n",
       "  </tbody>\n",
       "</table>\n",
       "</div>"
      ],
      "text/plain": [
       "           Data Hora Normal (kWh) Horário Económico (kWh) Autoconsumo (kWh)  \\\n",
       "901  2021-11-05   13          0.0                     0.0             0.274   \n",
       "\n",
       "    Injeção na rede (kWh)  \n",
       "901             Very High  "
      ]
     },
     "execution_count": 5,
     "metadata": {},
     "output_type": "execute_result"
    }
   ],
   "source": [
    "df_en.iloc[901].to_frame().T"
   ]
  },
  {
   "cell_type": "code",
   "execution_count": 6,
   "id": "f2aa5b25",
   "metadata": {},
   "outputs": [
    {
     "data": {
      "text/plain": [
       "Data                       False\n",
       "Hora                       False\n",
       "Normal (kWh)               False\n",
       "Horário Económico (kWh)    False\n",
       "Autoconsumo (kWh)          False\n",
       "Injeção na rede (kWh)      False\n",
       "dtype: bool"
      ]
     },
     "execution_count": 6,
     "metadata": {},
     "output_type": "execute_result"
    }
   ],
   "source": [
    "df_en.isna().any()"
   ]
  },
  {
   "cell_type": "code",
   "execution_count": 7,
   "id": "c80133a4",
   "metadata": {},
   "outputs": [
    {
     "name": "stdout",
     "output_type": "stream",
     "text": [
      "Data, Number of Unique Values: 459\n",
      "Hora, Number of Unique Values: 24\n",
      "Normal (kWh), Number of Unique Values: 1282\n",
      "Horário Económico (kWh), Number of Unique Values: 851\n",
      "Autoconsumo (kWh), Number of Unique Values: 752\n",
      "Injeção na rede (kWh), Number of Unique Values: 5\n"
     ]
    }
   ],
   "source": [
    "# Unique values for each column in the Energy dataset.\n",
    "for column in df_en.columns:\n",
    "    unique_values = df_en[column].unique()\n",
    "    print(f\"{column}, Number of Unique Values: {len(unique_values)}\")"
   ]
  },
  {
   "cell_type": "markdown",
   "id": "105695bf",
   "metadata": {},
   "source": [
    "## Weather Information Dataset\n",
    "\n",
    "This dataset provides comprehensive information related to weather conditions at different timestamps. The columns in the dataset include:\n",
    "\n",
    "- **dt (Timestamp):** The timestamp associated with the record.\n",
    "- **dt_iso (ISO Date):** The date associated with the record, accurate to the second.\n",
    "- **city_name:** The location for which weather data is recorded.\n",
    "- **temp (Temperature):** The temperature in degrees Celsius.\n",
    "- **feels_like (Feels Like):** The perceived temperature in degrees Celsius.\n",
    "- **temp_min (Min Temperature):** The minimum felt temperature in degrees Celsius.\n",
    "- **temp_max (Max Temperature):** The maximum felt temperature in degrees Celsius.\n",
    "- **pressure:** Atmospheric pressure in atmospheres.\n",
    "- **sea_level:** Atmospheric pressure at sea level in atmospheres.\n",
    "- **grnd_level:** Atmospheric pressure at local altitude in atmospheres.\n",
    "- **humidity:** Humidity level as a percentage.\n",
    "- **wind_speed:** Wind speed in meters per second.\n",
    "- **rain_1h (Rainfall):** Average precipitation value in the last hour.\n",
    "- **clouds_all (Cloudiness):** Cloud coverage percentage.\n",
    "- **weather_description:** Qualitative assessment of weather conditions.\n"
   ]
  },
  {
   "cell_type": "code",
   "execution_count": 8,
   "id": "76c29965",
   "metadata": {},
   "outputs": [
    {
     "name": "stdout",
     "output_type": "stream",
     "text": [
      "<class 'pandas.core.frame.DataFrame'>\n",
      "RangeIndex: 11688 entries, 0 to 11687\n",
      "Data columns (total 15 columns):\n",
      " #   Column               Non-Null Count  Dtype  \n",
      "---  ------               --------------  -----  \n",
      " 0   dt                   11688 non-null  int64  \n",
      " 1   dt_iso               11688 non-null  object \n",
      " 2   city_name            11688 non-null  object \n",
      " 3   temp                 11688 non-null  float64\n",
      " 4   feels_like           11688 non-null  float64\n",
      " 5   temp_min             11688 non-null  float64\n",
      " 6   temp_max             11688 non-null  float64\n",
      " 7   pressure             11688 non-null  int64  \n",
      " 8   sea_level            11688 non-null  object \n",
      " 9   grnd_level           11688 non-null  object \n",
      " 10  humidity             11688 non-null  int64  \n",
      " 11  wind_speed           11688 non-null  float64\n",
      " 12  rain_1h              11688 non-null  object \n",
      " 13  clouds_all           11688 non-null  int64  \n",
      " 14  weather_description  11688 non-null  object \n",
      "dtypes: float64(5), int64(4), object(6)\n",
      "memory usage: 1.3+ MB\n"
     ]
    }
   ],
   "source": [
    "df_me.info()"
   ]
  },
  {
   "cell_type": "code",
   "execution_count": 9,
   "id": "b1a634c8",
   "metadata": {},
   "outputs": [
    {
     "data": {
      "text/html": [
       "<div>\n",
       "<style scoped>\n",
       "    .dataframe tbody tr th:only-of-type {\n",
       "        vertical-align: middle;\n",
       "    }\n",
       "\n",
       "    .dataframe tbody tr th {\n",
       "        vertical-align: top;\n",
       "    }\n",
       "\n",
       "    .dataframe thead th {\n",
       "        text-align: right;\n",
       "    }\n",
       "</style>\n",
       "<table border=\"1\" class=\"dataframe\">\n",
       "  <thead>\n",
       "    <tr style=\"text-align: right;\">\n",
       "      <th></th>\n",
       "      <th>dt</th>\n",
       "      <th>dt_iso</th>\n",
       "      <th>city_name</th>\n",
       "      <th>temp</th>\n",
       "      <th>feels_like</th>\n",
       "      <th>temp_min</th>\n",
       "      <th>temp_max</th>\n",
       "      <th>pressure</th>\n",
       "      <th>sea_level</th>\n",
       "      <th>grnd_level</th>\n",
       "      <th>humidity</th>\n",
       "      <th>wind_speed</th>\n",
       "      <th>rain_1h</th>\n",
       "      <th>clouds_all</th>\n",
       "      <th>weather_description</th>\n",
       "    </tr>\n",
       "  </thead>\n",
       "  <tbody>\n",
       "    <tr>\n",
       "      <th>801</th>\n",
       "      <td>1633338000</td>\n",
       "      <td>2021-10-04 09:00:00 +0000 UTC</td>\n",
       "      <td>local</td>\n",
       "      <td>14.03</td>\n",
       "      <td>13.84</td>\n",
       "      <td>13.34</td>\n",
       "      <td>14.54</td>\n",
       "      <td>1023</td>\n",
       "      <td></td>\n",
       "      <td></td>\n",
       "      <td>90</td>\n",
       "      <td>2.07</td>\n",
       "      <td></td>\n",
       "      <td>69</td>\n",
       "      <td>broken clouds</td>\n",
       "    </tr>\n",
       "  </tbody>\n",
       "</table>\n",
       "</div>"
      ],
      "text/plain": [
       "             dt                         dt_iso city_name   temp feels_like  \\\n",
       "801  1633338000  2021-10-04 09:00:00 +0000 UTC     local  14.03      13.84   \n",
       "\n",
       "    temp_min temp_max pressure sea_level grnd_level humidity wind_speed  \\\n",
       "801    13.34    14.54     1023                            90       2.07   \n",
       "\n",
       "    rain_1h clouds_all weather_description  \n",
       "801                 69       broken clouds  "
      ]
     },
     "execution_count": 9,
     "metadata": {},
     "output_type": "execute_result"
    }
   ],
   "source": [
    "df_me.iloc[801].to_frame().T"
   ]
  },
  {
   "cell_type": "code",
   "execution_count": 10,
   "id": "bbb4fdca",
   "metadata": {},
   "outputs": [
    {
     "data": {
      "text/plain": [
       "dt                     False\n",
       "dt_iso                 False\n",
       "city_name              False\n",
       "temp                   False\n",
       "feels_like             False\n",
       "temp_min               False\n",
       "temp_max               False\n",
       "pressure               False\n",
       "sea_level              False\n",
       "grnd_level             False\n",
       "humidity               False\n",
       "wind_speed             False\n",
       "rain_1h                False\n",
       "clouds_all             False\n",
       "weather_description    False\n",
       "dtype: bool"
      ]
     },
     "execution_count": 10,
     "metadata": {},
     "output_type": "execute_result"
    }
   ],
   "source": [
    "df_me.isna().any()"
   ]
  },
  {
   "cell_type": "code",
   "execution_count": 11,
   "id": "b5bb4618",
   "metadata": {},
   "outputs": [
    {
     "name": "stdout",
     "output_type": "stream",
     "text": [
      "dt, Number of Unique Values: 11688\n",
      "dt_iso, Number of Unique Values: 11688\n",
      "city_name, Number of Unique Values: 1\n",
      "temp, Number of Unique Values: 2423\n",
      "feels_like, Number of Unique Values: 2702\n",
      "temp_min, Number of Unique Values: 488\n",
      "temp_max, Number of Unique Values: 550\n",
      "pressure, Number of Unique Values: 41\n",
      "sea_level, Number of Unique Values: 1\n",
      "grnd_level, Number of Unique Values: 1\n",
      "humidity, Number of Unique Values: 82\n",
      "wind_speed, Number of Unique Values: 771\n",
      "rain_1h, Number of Unique Values: 372\n",
      "clouds_all, Number of Unique Values: 101\n",
      "weather_description, Number of Unique Values: 8\n"
     ]
    }
   ],
   "source": [
    "# Unique values for each column in the Energy dataset.\n",
    "for column in df_me.columns:\n",
    "    unique_values = df_me[column].unique()\n",
    "    print(f\"{column}, Number of Unique Values: {len(unique_values)}\")"
   ]
  },
  {
   "cell_type": "markdown",
   "id": "790ae71f",
   "metadata": {},
   "source": [
    "# **Data Processing**\n",
    "\n",
    "After Loading the data, we must now process it in order to be able to use it in our model. For this we will follow the following steps:\n",
    "1. Remove unnecessary columns\n",
    "2. Handle the Date column on both datasets and unify the format for later joining of the datasets\n",
    "3. Handle the missing values or rows (dates that are not present in both datasets)\n",
    "4. Handle the categorical values"
   ]
  },
  {
   "cell_type": "code",
   "execution_count": 12,
   "id": "c35b1447",
   "metadata": {},
   "outputs": [],
   "source": [
    "# We can drop city_name, sea_level and grnd_level as they only have one unique value\n",
    "df_me = df_me.drop(['city_name', 'sea_level', 'grnd_level'], axis=1)"
   ]
  },
  {
   "cell_type": "code",
   "execution_count": 13,
   "id": "55227cee",
   "metadata": {},
   "outputs": [
    {
     "name": "stdout",
     "output_type": "stream",
     "text": [
      "Categories for 'Injeção na rede (kWh)' in df_en:\n",
      "Index(['High', 'Low', 'Medium', 'None', 'Very High'], dtype='object')\n",
      "\n",
      "\n",
      "Categories for 'weather_description' in df_me:\n",
      "Index(['broken clouds', 'few clouds', 'heavy intensity rain', 'light rain',\n",
      "       'moderate rain', 'overcast clouds', 'scattered clouds', 'sky is clear'],\n",
      "      dtype='object')\n",
      "\n",
      "\n"
     ]
    }
   ],
   "source": [
    "# Convert columns to categorical\n",
    "df_en[\"Injeção na rede (kWh)\"] = df_en[\"Injeção na rede (kWh)\"].astype(\"category\")\n",
    "df_me[\"weather_description\"] = df_me['weather_description'].astype(\"category\")\n",
    "\n",
    "# For \"Injeção na rede (kWh)\" column in df_en\n",
    "print(\"Categories for 'Injeção na rede (kWh)' in df_en:\")\n",
    "print(df_en[\"Injeção na rede (kWh)\"].cat.categories)\n",
    "print(\"\\n\")\n",
    "\n",
    "# For \"weather_description\" column in df_me\n",
    "print(\"Categories for 'weather_description' in df_me:\")\n",
    "print(df_me[\"weather_description\"].cat.categories)\n",
    "print(\"\\n\")\n"
   ]
  },
  {
   "cell_type": "code",
   "execution_count": 14,
   "id": "de5dbb7b",
   "metadata": {},
   "outputs": [
    {
     "data": {
      "text/html": [
       "<div>\n",
       "<style scoped>\n",
       "    .dataframe tbody tr th:only-of-type {\n",
       "        vertical-align: middle;\n",
       "    }\n",
       "\n",
       "    .dataframe tbody tr th {\n",
       "        vertical-align: top;\n",
       "    }\n",
       "\n",
       "    .dataframe thead th {\n",
       "        text-align: right;\n",
       "    }\n",
       "</style>\n",
       "<table border=\"1\" class=\"dataframe\">\n",
       "  <thead>\n",
       "    <tr style=\"text-align: right;\">\n",
       "      <th></th>\n",
       "      <th>Normal (kWh)</th>\n",
       "      <th>Horário Económico (kWh)</th>\n",
       "      <th>Autoconsumo (kWh)</th>\n",
       "      <th>Injeção na rede (kWh)</th>\n",
       "      <th>datetime</th>\n",
       "    </tr>\n",
       "  </thead>\n",
       "  <tbody>\n",
       "    <tr>\n",
       "      <th>901</th>\n",
       "      <td>0.0</td>\n",
       "      <td>0.0</td>\n",
       "      <td>0.274</td>\n",
       "      <td>Very High</td>\n",
       "      <td>2021-11-05 13:00:00</td>\n",
       "    </tr>\n",
       "  </tbody>\n",
       "</table>\n",
       "</div>"
      ],
      "text/plain": [
       "    Normal (kWh) Horário Económico (kWh) Autoconsumo (kWh)  \\\n",
       "901          0.0                     0.0             0.274   \n",
       "\n",
       "    Injeção na rede (kWh)             datetime  \n",
       "901             Very High  2021-11-05 13:00:00  "
      ]
     },
     "execution_count": 14,
     "metadata": {},
     "output_type": "execute_result"
    }
   ],
   "source": [
    "# Convert columns to unified format\n",
    "df_en['datetime'] = pd.to_datetime(df_en['Data'] + ' ' + df_en['Hora'].astype(str) + ':00:00', format='%Y-%m-%d %H:%M:%S')\n",
    "\n",
    "# Drop the original 'Data' and 'Hora' columns if needed\n",
    "df_en = df_en.drop(['Data', 'Hora'], axis=1)\n",
    "\n",
    "# Print the updated DataFrame\n",
    "df_en.iloc[901].to_frame().T"
   ]
  },
  {
   "cell_type": "code",
   "execution_count": 18,
   "id": "32a60faa",
   "metadata": {},
   "outputs": [
    {
     "name": "stdout",
     "output_type": "stream",
     "text": [
      "<class 'pandas.core.frame.DataFrame'>\n",
      "RangeIndex: 11016 entries, 0 to 11015\n",
      "Data columns (total 5 columns):\n",
      " #   Column                   Non-Null Count  Dtype         \n",
      "---  ------                   --------------  -----         \n",
      " 0   Normal (kWh)             11016 non-null  float64       \n",
      " 1   Horário Económico (kWh)  11016 non-null  float64       \n",
      " 2   Autoconsumo (kWh)        11016 non-null  float64       \n",
      " 3   Injeção na rede (kWh)    11016 non-null  category      \n",
      " 4   datetime                 11016 non-null  datetime64[ns]\n",
      "dtypes: category(1), datetime64[ns](1), float64(3)\n",
      "memory usage: 355.3 KB\n"
     ]
    }
   ],
   "source": [
    "df_en.info()"
   ]
  },
  {
   "cell_type": "code",
   "execution_count": 15,
   "id": "669f1ec6",
   "metadata": {},
   "outputs": [
    {
     "data": {
      "text/html": [
       "<div>\n",
       "<style scoped>\n",
       "    .dataframe tbody tr th:only-of-type {\n",
       "        vertical-align: middle;\n",
       "    }\n",
       "\n",
       "    .dataframe tbody tr th {\n",
       "        vertical-align: top;\n",
       "    }\n",
       "\n",
       "    .dataframe thead th {\n",
       "        text-align: right;\n",
       "    }\n",
       "</style>\n",
       "<table border=\"1\" class=\"dataframe\">\n",
       "  <thead>\n",
       "    <tr style=\"text-align: right;\">\n",
       "      <th></th>\n",
       "      <th>dt</th>\n",
       "      <th>datetime</th>\n",
       "      <th>temp</th>\n",
       "      <th>feels_like</th>\n",
       "      <th>temp_min</th>\n",
       "      <th>temp_max</th>\n",
       "      <th>pressure</th>\n",
       "      <th>humidity</th>\n",
       "      <th>wind_speed</th>\n",
       "      <th>rain_1h</th>\n",
       "      <th>clouds_all</th>\n",
       "      <th>weather_description</th>\n",
       "    </tr>\n",
       "  </thead>\n",
       "  <tbody>\n",
       "    <tr>\n",
       "      <th>801</th>\n",
       "      <td>1633338000</td>\n",
       "      <td>2021-10-04 09:00:00</td>\n",
       "      <td>14.03</td>\n",
       "      <td>13.84</td>\n",
       "      <td>13.34</td>\n",
       "      <td>14.54</td>\n",
       "      <td>1023</td>\n",
       "      <td>90</td>\n",
       "      <td>2.07</td>\n",
       "      <td></td>\n",
       "      <td>69</td>\n",
       "      <td>broken clouds</td>\n",
       "    </tr>\n",
       "  </tbody>\n",
       "</table>\n",
       "</div>"
      ],
      "text/plain": [
       "             dt             datetime   temp feels_like temp_min temp_max  \\\n",
       "801  1633338000  2021-10-04 09:00:00  14.03      13.84    13.34    14.54   \n",
       "\n",
       "    pressure humidity wind_speed rain_1h clouds_all weather_description  \n",
       "801     1023       90       2.07                 69       broken clouds  "
      ]
     },
     "execution_count": 15,
     "metadata": {},
     "output_type": "execute_result"
    }
   ],
   "source": [
    "#fix datetime in df_me (loses the UTC tag)\n",
    "df_me['dt_iso'] = pd.to_datetime(df_me['dt_iso'], format='%Y-%m-%d %H:%M:%S %z UTC')\n",
    "df_me['dt_iso'] = df_me['dt_iso'].dt.tz_localize(None)\n",
    "df_me = df_me.rename(columns={\"dt_iso\": \"datetime\"})\n",
    "df_me.iloc[801].to_frame().T"
   ]
  },
  {
   "cell_type": "code",
   "execution_count": 17,
   "id": "ff2b058f",
   "metadata": {},
   "outputs": [],
   "source": [
    "# We can also drop the 'dt' column as it is redundant\n",
    "df_me = df_me.drop(['dt'], axis=1)"
   ]
  },
  {
   "cell_type": "code",
   "execution_count": 19,
   "id": "21ffc49e",
   "metadata": {},
   "outputs": [],
   "source": [
    "# Order the dataframes by datetime so we can detect any time skips\n",
    "df_en = df_en.sort_values(by=['datetime'])\n",
    "df_me = df_me.sort_values(by=['datetime'])"
   ]
  },
  {
   "cell_type": "code",
   "execution_count": 20,
   "id": "53b76b66",
   "metadata": {},
   "outputs": [
    {
     "name": "stdout",
     "output_type": "stream",
     "text": [
      "Irregular time intervals in df_en:\n",
      "0   NaT\n",
      "Name: datetime, dtype: timedelta64[ns]\n",
      "\n",
      "\n",
      "Irregular time intervals in df_me:\n",
      "0   NaT\n",
      "Name: datetime, dtype: timedelta64[ns]\n"
     ]
    }
   ],
   "source": [
    "time_diff_en = df_en['datetime'].diff()\n",
    "time_diff_me = df_me['datetime'].diff()\n",
    "\n",
    "# Print the irregular time intervals\n",
    "irregularities_en = time_diff_en[time_diff_en != '0 days 01:00:00']\n",
    "irregularities_me = time_diff_me[time_diff_me != '0 days 01:00:00']\n",
    "print(\"Irregular time intervals in df_en:\")\n",
    "print(irregularities_en)\n",
    "print(\"\\n\")\n",
    "print(\"Irregular time intervals in df_me:\")\n",
    "print(irregularities_me)\n"
   ]
  },
  {
   "cell_type": "code",
   "execution_count": 21,
   "id": "1be20a5f",
   "metadata": {},
   "outputs": [],
   "source": [
    "outer_join_merged_df = pd.merge(df_en, df_me, on='datetime', how='outer')"
   ]
  },
  {
   "cell_type": "code",
   "execution_count": 23,
   "id": "e8aa1ce7",
   "metadata": {},
   "outputs": [
    {
     "data": {
      "text/plain": [
       "Normal (kWh)               672\n",
       "Horário Económico (kWh)    672\n",
       "Autoconsumo (kWh)          672\n",
       "Injeção na rede (kWh)      672\n",
       "datetime                     0\n",
       "temp                         0\n",
       "feels_like                   0\n",
       "temp_min                     0\n",
       "temp_max                     0\n",
       "pressure                     0\n",
       "humidity                     0\n",
       "wind_speed                   0\n",
       "rain_1h                      0\n",
       "clouds_all                   0\n",
       "weather_description          0\n",
       "dtype: int64"
      ]
     },
     "execution_count": 23,
     "metadata": {},
     "output_type": "execute_result"
    }
   ],
   "source": [
    "outer_join_merged_df.isna().sum()"
   ]
  },
  {
   "cell_type": "markdown",
   "id": "0602b4f6",
   "metadata": {},
   "source": [
    "Since the datetime data exhibited no irregularities, the additional entries present in the Weather dataset but not in the Energy dataset can be attributed to the Weather dataset containing data from days before or after the Energy dataset's first or last entry, respectively. A manual analysis of the dataset reveals that the Weather dataset includes entries starting from 2021-09-01, while the Energy dataset commences from 2021-09-29. Consequently, it is necessary to exclude entries from the Weather dataset that precede 2021-09-29, as they will not contribute to the modeling process. In order to achieve this we will do an Inner Join between the two datasets on the datetime column, and the resulting dataset will be the one we use going forward."
   ]
  },
  {
   "cell_type": "code",
   "execution_count": 26,
   "id": "65be7757",
   "metadata": {},
   "outputs": [],
   "source": [
    "#at this point, if I do an inner join I am losing 5.7% of all datarows\n",
    "merged_df = pd.merge(df_en, df_me, on='datetime', how='inner')"
   ]
  },
  {
   "cell_type": "code",
   "execution_count": 28,
   "id": "9e9bd163",
   "metadata": {},
   "outputs": [],
   "source": [
    "#Sava the clean dataset\n",
    "merged_df.to_csv('merged.csv')"
   ]
  },
  {
   "cell_type": "code",
   "execution_count": 30,
   "id": "805aa061",
   "metadata": {},
   "outputs": [
    {
     "data": {
      "text/html": [
       "<div>\n",
       "<style scoped>\n",
       "    .dataframe tbody tr th:only-of-type {\n",
       "        vertical-align: middle;\n",
       "    }\n",
       "\n",
       "    .dataframe tbody tr th {\n",
       "        vertical-align: top;\n",
       "    }\n",
       "\n",
       "    .dataframe thead th {\n",
       "        text-align: right;\n",
       "    }\n",
       "</style>\n",
       "<table border=\"1\" class=\"dataframe\">\n",
       "  <thead>\n",
       "    <tr style=\"text-align: right;\">\n",
       "      <th></th>\n",
       "      <th>Normal (kWh)</th>\n",
       "      <th>Horário Económico (kWh)</th>\n",
       "      <th>Autoconsumo (kWh)</th>\n",
       "      <th>Injeção na rede (kWh)</th>\n",
       "      <th>datetime</th>\n",
       "      <th>temp</th>\n",
       "      <th>feels_like</th>\n",
       "      <th>temp_min</th>\n",
       "      <th>temp_max</th>\n",
       "      <th>pressure</th>\n",
       "      <th>humidity</th>\n",
       "      <th>wind_speed</th>\n",
       "      <th>rain_1h</th>\n",
       "      <th>clouds_all</th>\n",
       "      <th>weather_description</th>\n",
       "    </tr>\n",
       "  </thead>\n",
       "  <tbody>\n",
       "    <tr>\n",
       "      <th>901</th>\n",
       "      <td>0.0</td>\n",
       "      <td>0.0</td>\n",
       "      <td>0.274</td>\n",
       "      <td>Very High</td>\n",
       "      <td>2021-11-05 13:00:00</td>\n",
       "      <td>15.75</td>\n",
       "      <td>14.92</td>\n",
       "      <td>13.12</td>\n",
       "      <td>17.88</td>\n",
       "      <td>1027</td>\n",
       "      <td>59</td>\n",
       "      <td>3.06</td>\n",
       "      <td></td>\n",
       "      <td>1</td>\n",
       "      <td>sky is clear</td>\n",
       "    </tr>\n",
       "  </tbody>\n",
       "</table>\n",
       "</div>"
      ],
      "text/plain": [
       "    Normal (kWh) Horário Económico (kWh) Autoconsumo (kWh)  \\\n",
       "901          0.0                     0.0             0.274   \n",
       "\n",
       "    Injeção na rede (kWh)             datetime   temp feels_like temp_min  \\\n",
       "901             Very High  2021-11-05 13:00:00  15.75      14.92    13.12   \n",
       "\n",
       "    temp_max pressure humidity wind_speed rain_1h clouds_all  \\\n",
       "901    17.88     1027       59       3.06                  1   \n",
       "\n",
       "    weather_description  \n",
       "901        sky is clear  "
      ]
     },
     "execution_count": 30,
     "metadata": {},
     "output_type": "execute_result"
    }
   ],
   "source": [
    "merged_df.iloc[901].to_frame().T"
   ]
  }
 ],
 "metadata": {
  "kernelspec": {
   "display_name": "Python 3 (ipykernel)",
   "language": "python",
   "name": "python3"
  },
  "language_info": {
   "codemirror_mode": {
    "name": "ipython",
    "version": 3
   },
   "file_extension": ".py",
   "mimetype": "text/x-python",
   "name": "python",
   "nbconvert_exporter": "python",
   "pygments_lexer": "ipython3",
   "version": "3.10.13"
  }
 },
 "nbformat": 4,
 "nbformat_minor": 5
}
