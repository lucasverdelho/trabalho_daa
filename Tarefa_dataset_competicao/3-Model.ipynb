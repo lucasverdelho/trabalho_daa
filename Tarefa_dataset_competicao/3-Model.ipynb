{
 "cells": [
  {
   "cell_type": "markdown",
   "metadata": {},
   "source": [
    "# **Modeling**"
   ]
  },
  {
   "cell_type": "markdown",
   "metadata": {},
   "source": [
    "The problem is a classification problem with ordinal labels. We have the following possible values for the target variable: None, Low, Medium, High, Very High. We will first try some suitable models for ordinal classification:\n",
    "\n",
    "1. **Ordinal Logistic Regression:**\n",
    "   - **Type:** Supervised learning, ordinal classification.\n",
    "   - **Strengths:** Designed specifically for ordinal outcomes, interpretable, and extends logistic regression to handle ordered categories.\n",
    "   - **Considerations:** Assumes the proportional odds assumption.\n",
    "\n",
    "2. **Random Forest Classifier for Ordinal Regression:**\n",
    "   - **Type:** Supervised learning, classification.\n",
    "   - **Strengths:** Handles non-linearity and interactions, robust to overfitting, and can handle ordinal targets by using the `OrdinalClassifier` from scikit-learn.\n",
    "   - **Considerations:** Might not be as interpretable as ordinal logistic regression.\n",
    "\n",
    "3. **Support Vector Machines (SVM) for Ordinal Classification:**\n",
    "   - **Type:** Supervised learning, ordinal classification.\n",
    "   - **Strengths:** Effective in high-dimensional spaces, versatile, and can be adapted for ordinal targets.\n",
    "   - **Considerations:** Sensitive to the choice of kernel function and parameters.\n",
    "\n",
    "4. **Ordinal Neural Networks:**\n",
    "   - **Type:** Deep learning, ordinal classification.\n",
    "   - **Strengths:** Can capture complex relationships, automatically learns feature representations, and can be adapted for ordinal outcomes.\n",
    "   - **Considerations:** Requires more data, computationally intensive, and might be overkill for simpler problems."
   ]
  },
  {
   "cell_type": "code",
   "execution_count": null,
   "metadata": {},
   "outputs": [],
   "source": [
    "#"
   ]
  }
 ],
 "metadata": {
  "language_info": {
   "name": "python"
  }
 },
 "nbformat": 4,
 "nbformat_minor": 2
}
