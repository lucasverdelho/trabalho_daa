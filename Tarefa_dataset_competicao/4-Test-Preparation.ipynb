{
 "cells": [
  {
   "cell_type": "markdown",
   "metadata": {},
   "source": [
    "# **Test Preparation**"
   ]
  },
  {
   "cell_type": "code",
   "execution_count": 1,
   "metadata": {},
   "outputs": [],
   "source": [
    "import pandas as pd"
   ]
  },
  {
   "cell_type": "code",
   "execution_count": 2,
   "metadata": {},
   "outputs": [],
   "source": [
    "test_en = pd.read_csv('daasbstp2023/energia_202301-202304.csv', na_filter=False, encoding = \"latin\")\n",
    "test_me = pd.read_csv('daasbstp2023/meteo_202301-202304.csv', na_filter=False, encoding = \"latin\")"
   ]
  },
  {
   "cell_type": "code",
   "execution_count": 3,
   "metadata": {},
   "outputs": [
    {
     "name": "stdout",
     "output_type": "stream",
     "text": [
      "<class 'pandas.core.frame.DataFrame'>\n",
      "RangeIndex: 2256 entries, 0 to 2255\n",
      "Data columns (total 5 columns):\n",
      " #   Column                   Non-Null Count  Dtype  \n",
      "---  ------                   --------------  -----  \n",
      " 0   Data                     2256 non-null   object \n",
      " 1   Hora                     2256 non-null   int64  \n",
      " 2   Normal (kWh)             2256 non-null   float64\n",
      " 3   Horário Económico (kWh)  2256 non-null   float64\n",
      " 4   Autoconsumo (kWh)        2256 non-null   float64\n",
      "dtypes: float64(3), int64(1), object(1)\n",
      "memory usage: 88.2+ KB\n"
     ]
    }
   ],
   "source": [
    "test_en.info()"
   ]
  },
  {
   "cell_type": "code",
   "execution_count": 4,
   "metadata": {},
   "outputs": [
    {
     "data": {
      "text/plain": [
       "Data                       False\n",
       "Hora                       False\n",
       "Normal (kWh)               False\n",
       "Horário Económico (kWh)    False\n",
       "Autoconsumo (kWh)          False\n",
       "dtype: bool"
      ]
     },
     "execution_count": 4,
     "metadata": {},
     "output_type": "execute_result"
    }
   ],
   "source": [
    "test_en.isna().any()"
   ]
  },
  {
   "cell_type": "code",
   "execution_count": 5,
   "metadata": {},
   "outputs": [
    {
     "name": "stdout",
     "output_type": "stream",
     "text": [
      "<class 'pandas.core.frame.DataFrame'>\n",
      "RangeIndex: 1752 entries, 0 to 1751\n",
      "Data columns (total 15 columns):\n",
      " #   Column               Non-Null Count  Dtype  \n",
      "---  ------               --------------  -----  \n",
      " 0   dt                   1752 non-null   int64  \n",
      " 1   dt_iso               1752 non-null   object \n",
      " 2   city_name            1752 non-null   object \n",
      " 3   temp                 1752 non-null   float64\n",
      " 4   feels_like           1752 non-null   float64\n",
      " 5   temp_min             1752 non-null   float64\n",
      " 6   temp_max             1752 non-null   float64\n",
      " 7   pressure             1752 non-null   int64  \n",
      " 8   sea_level            1752 non-null   object \n",
      " 9   grnd_level           1752 non-null   object \n",
      " 10  humidity             1752 non-null   int64  \n",
      " 11  wind_speed           1752 non-null   float64\n",
      " 12  rain_1h              1752 non-null   object \n",
      " 13  clouds_all           1752 non-null   int64  \n",
      " 14  weather_description  1752 non-null   object \n",
      "dtypes: float64(5), int64(4), object(6)\n",
      "memory usage: 205.4+ KB\n"
     ]
    }
   ],
   "source": [
    "test_me.info()"
   ]
  },
  {
   "cell_type": "code",
   "execution_count": 6,
   "metadata": {},
   "outputs": [
    {
     "data": {
      "text/plain": [
       "dt                     False\n",
       "dt_iso                 False\n",
       "city_name              False\n",
       "temp                   False\n",
       "feels_like             False\n",
       "temp_min               False\n",
       "temp_max               False\n",
       "pressure               False\n",
       "sea_level              False\n",
       "grnd_level             False\n",
       "humidity               False\n",
       "wind_speed             False\n",
       "rain_1h                False\n",
       "clouds_all             False\n",
       "weather_description    False\n",
       "dtype: bool"
      ]
     },
     "execution_count": 6,
     "metadata": {},
     "output_type": "execute_result"
    }
   ],
   "source": [
    "test_me.isna().any()"
   ]
  },
  {
   "cell_type": "code",
   "execution_count": 7,
   "metadata": {},
   "outputs": [
    {
     "name": "stdout",
     "output_type": "stream",
     "text": [
      "Data, Number of Unique Values: 94\n",
      "Hora, Number of Unique Values: 24\n",
      "Normal (kWh), Number of Unique Values: 709\n",
      "Horário Económico (kWh), Number of Unique Values: 490\n",
      "Autoconsumo (kWh), Number of Unique Values: 485\n"
     ]
    }
   ],
   "source": [
    "# Unique values for each column in the Energy dataset.\n",
    "for column in test_en.columns:\n",
    "    unique_values = test_en[column].unique()\n",
    "    print(f\"{column}, Number of Unique Values: {len(unique_values)}\")"
   ]
  },
  {
   "cell_type": "code",
   "execution_count": 8,
   "metadata": {},
   "outputs": [
    {
     "name": "stdout",
     "output_type": "stream",
     "text": [
      "dt, Number of Unique Values: 1752\n",
      "dt_iso, Number of Unique Values: 1752\n",
      "city_name, Number of Unique Values: 1\n",
      "temp, Number of Unique Values: 889\n",
      "feels_like, Number of Unique Values: 1007\n",
      "temp_min, Number of Unique Values: 169\n",
      "temp_max, Number of Unique Values: 174\n",
      "pressure, Number of Unique Values: 31\n",
      "sea_level, Number of Unique Values: 1\n",
      "grnd_level, Number of Unique Values: 1\n",
      "humidity, Number of Unique Values: 71\n",
      "wind_speed, Number of Unique Values: 512\n",
      "rain_1h, Number of Unique Values: 121\n",
      "clouds_all, Number of Unique Values: 99\n",
      "weather_description, Number of Unique Values: 8\n"
     ]
    }
   ],
   "source": [
    "# Unique values for each column in the Meteorology dataset\n",
    "\n",
    "for column in test_me.columns:\n",
    "    unique_values = test_me[column].unique()\n",
    "    print(f\"{column}, Number of Unique Values: {len(unique_values)}\")"
   ]
  },
  {
   "cell_type": "code",
   "execution_count": 9,
   "metadata": {},
   "outputs": [],
   "source": [
    "test_me = test_me.drop(['city_name', 'sea_level', 'grnd_level'], axis=1)"
   ]
  },
  {
   "cell_type": "code",
   "execution_count": 10,
   "metadata": {},
   "outputs": [
    {
     "data": {
      "text/html": [
       "<div>\n",
       "<style scoped>\n",
       "    .dataframe tbody tr th:only-of-type {\n",
       "        vertical-align: middle;\n",
       "    }\n",
       "\n",
       "    .dataframe tbody tr th {\n",
       "        vertical-align: top;\n",
       "    }\n",
       "\n",
       "    .dataframe thead th {\n",
       "        text-align: right;\n",
       "    }\n",
       "</style>\n",
       "<table border=\"1\" class=\"dataframe\">\n",
       "  <thead>\n",
       "    <tr style=\"text-align: right;\">\n",
       "      <th></th>\n",
       "      <th>Normal (kWh)</th>\n",
       "      <th>Horário Económico (kWh)</th>\n",
       "      <th>Autoconsumo (kWh)</th>\n",
       "      <th>datetime</th>\n",
       "    </tr>\n",
       "  </thead>\n",
       "  <tbody>\n",
       "    <tr>\n",
       "      <th>901</th>\n",
       "      <td>0.0</td>\n",
       "      <td>0.0</td>\n",
       "      <td>0.311</td>\n",
       "      <td>2023-02-07 13:00:00</td>\n",
       "    </tr>\n",
       "  </tbody>\n",
       "</table>\n",
       "</div>"
      ],
      "text/plain": [
       "    Normal (kWh) Horário Económico (kWh) Autoconsumo (kWh)  \\\n",
       "901          0.0                     0.0             0.311   \n",
       "\n",
       "                datetime  \n",
       "901  2023-02-07 13:00:00  "
      ]
     },
     "execution_count": 10,
     "metadata": {},
     "output_type": "execute_result"
    }
   ],
   "source": [
    "# Convert columns to unified format\n",
    "test_en['datetime'] = pd.to_datetime(test_en['Data'] + ' ' + test_en['Hora'].astype(str) + ':00:00', format='%Y-%m-%d %H:%M:%S')\n",
    "\n",
    "# Drop the original 'Data' and 'Hora' columns if needed\n",
    "test_en = test_en.drop(['Data', 'Hora'], axis=1)\n",
    "\n",
    "# Print the updated DataFrame\n",
    "test_en.iloc[901].to_frame().T"
   ]
  },
  {
   "cell_type": "code",
   "execution_count": 11,
   "metadata": {},
   "outputs": [
    {
     "data": {
      "text/html": [
       "<div>\n",
       "<style scoped>\n",
       "    .dataframe tbody tr th:only-of-type {\n",
       "        vertical-align: middle;\n",
       "    }\n",
       "\n",
       "    .dataframe tbody tr th {\n",
       "        vertical-align: top;\n",
       "    }\n",
       "\n",
       "    .dataframe thead th {\n",
       "        text-align: right;\n",
       "    }\n",
       "</style>\n",
       "<table border=\"1\" class=\"dataframe\">\n",
       "  <thead>\n",
       "    <tr style=\"text-align: right;\">\n",
       "      <th></th>\n",
       "      <th>datetime</th>\n",
       "      <th>temp</th>\n",
       "      <th>feels_like</th>\n",
       "      <th>temp_min</th>\n",
       "      <th>temp_max</th>\n",
       "      <th>pressure</th>\n",
       "      <th>humidity</th>\n",
       "      <th>wind_speed</th>\n",
       "      <th>rain_1h</th>\n",
       "      <th>clouds_all</th>\n",
       "      <th>weather_description</th>\n",
       "    </tr>\n",
       "  </thead>\n",
       "  <tbody>\n",
       "    <tr>\n",
       "      <th>801</th>\n",
       "      <td>2023-02-03 09:00:00</td>\n",
       "      <td>7.1</td>\n",
       "      <td>4.92</td>\n",
       "      <td>4.71</td>\n",
       "      <td>8.34</td>\n",
       "      <td>1033</td>\n",
       "      <td>81</td>\n",
       "      <td>3.16</td>\n",
       "      <td></td>\n",
       "      <td>0</td>\n",
       "      <td>sky is clear</td>\n",
       "    </tr>\n",
       "  </tbody>\n",
       "</table>\n",
       "</div>"
      ],
      "text/plain": [
       "                datetime temp feels_like temp_min temp_max pressure humidity  \\\n",
       "801  2023-02-03 09:00:00  7.1       4.92     4.71     8.34     1033       81   \n",
       "\n",
       "    wind_speed rain_1h clouds_all weather_description  \n",
       "801       3.16                  0        sky is clear  "
      ]
     },
     "execution_count": 11,
     "metadata": {},
     "output_type": "execute_result"
    }
   ],
   "source": [
    "# Convert columns to unified format\n",
    "test_me['dt_iso'] = pd.to_datetime(test_me['dt_iso'], format='%Y-%m-%d %H:%M:%S %z UTC')\n",
    "test_me['dt_iso'] = test_me['dt_iso'].dt.tz_localize(None)\n",
    "\n",
    "# Rename the column to 'datetime'\n",
    "test_me = test_me.rename(columns={\"dt_iso\": \"datetime\"})\n",
    "\n",
    "# We can also drop the 'dt' column as it is redundant\n",
    "test_me = test_me.drop(['dt'], axis=1)\n",
    "\n",
    "# Print the updated DataFrame\n",
    "test_me.iloc[801].to_frame().T"
   ]
  },
  {
   "cell_type": "code",
   "execution_count": 12,
   "metadata": {},
   "outputs": [],
   "source": [
    "# Order the dataframes by datetime so we can detect any time skips\n",
    "test_en = test_en.sort_values(by=['datetime'])\n",
    "test_me = test_me.sort_values(by=['datetime'])"
   ]
  },
  {
   "cell_type": "code",
   "execution_count": 13,
   "metadata": {},
   "outputs": [
    {
     "name": "stdout",
     "output_type": "stream",
     "text": [
      "Irregular time intervals in df_en:\n",
      "0   NaT\n",
      "Name: datetime, dtype: timedelta64[ns]\n",
      "\n",
      "\n",
      "Irregular time intervals in df_me:\n",
      "0   NaT\n",
      "Name: datetime, dtype: timedelta64[ns]\n"
     ]
    }
   ],
   "source": [
    "time_diff_en = test_en['datetime'].diff()\n",
    "time_diff_me = test_me['datetime'].diff()\n",
    "\n",
    "# Print the irregular time intervals\n",
    "irregularities_en = time_diff_en[time_diff_en != '0 days 01:00:00']\n",
    "irregularities_me = time_diff_me[time_diff_me != '0 days 01:00:00']\n",
    "print(\"Irregular time intervals in df_en:\")\n",
    "print(irregularities_en)\n",
    "print(\"\\n\")\n",
    "print(\"Irregular time intervals in df_me:\")\n",
    "print(irregularities_me)"
   ]
  },
  {
   "cell_type": "code",
   "execution_count": 14,
   "metadata": {},
   "outputs": [
    {
     "name": "stdout",
     "output_type": "stream",
     "text": [
      "<class 'pandas.core.frame.DataFrame'>\n",
      "RangeIndex: 2256 entries, 0 to 2255\n",
      "Data columns (total 4 columns):\n",
      " #   Column                  Non-Null Count  Dtype         \n",
      "---  ------                  --------------  -----         \n",
      " 0   Normal (kWh)            2256 non-null   float64       \n",
      " 1   Economic (kWh)          2256 non-null   float64       \n",
      " 2   Self-consumption (kWh)  2256 non-null   float64       \n",
      " 3   datetime                2256 non-null   datetime64[ns]\n",
      "dtypes: datetime64[ns](1), float64(3)\n",
      "memory usage: 70.6 KB\n"
     ]
    }
   ],
   "source": [
    "# Rename the Portuguese Columns to English (Injeção na rede (kWh), Horário Económico (kWh), Autoconsumo (kWh)\n",
    "test_en = test_en.rename(columns={'Injeção na rede (kWh)': 'Injection', 'Horário Económico (kWh)': 'Economic (kWh)', 'Autoconsumo (kWh)': 'Self-consumption (kWh)'})\n",
    "\n",
    "test_en.info()"
   ]
  },
  {
   "cell_type": "code",
   "execution_count": 15,
   "metadata": {},
   "outputs": [
    {
     "name": "stdout",
     "output_type": "stream",
     "text": [
      "<class 'pandas.core.frame.DataFrame'>\n",
      "RangeIndex: 2256 entries, 0 to 2255\n",
      "Data columns (total 14 columns):\n",
      " #   Column                  Non-Null Count  Dtype         \n",
      "---  ------                  --------------  -----         \n",
      " 0   Normal (kWh)            2256 non-null   float64       \n",
      " 1   Economic (kWh)          2256 non-null   float64       \n",
      " 2   Self-consumption (kWh)  2256 non-null   float64       \n",
      " 3   datetime                2256 non-null   datetime64[ns]\n",
      " 4   temp                    1752 non-null   float64       \n",
      " 5   feels_like              1752 non-null   float64       \n",
      " 6   temp_min                1752 non-null   float64       \n",
      " 7   temp_max                1752 non-null   float64       \n",
      " 8   pressure                1752 non-null   float64       \n",
      " 9   humidity                1752 non-null   float64       \n",
      " 10  wind_speed              1752 non-null   float64       \n",
      " 11  rain_1h                 1752 non-null   object        \n",
      " 12  clouds_all              1752 non-null   float64       \n",
      " 13  weather_description     1752 non-null   object        \n",
      "dtypes: datetime64[ns](1), float64(11), object(2)\n",
      "memory usage: 246.9+ KB\n"
     ]
    }
   ],
   "source": [
    "test_merged = pd.merge(test_en, test_me, on='datetime', how='outer')\n",
    "\n",
    "test_merged.info()"
   ]
  },
  {
   "cell_type": "code",
   "execution_count": 16,
   "metadata": {},
   "outputs": [],
   "source": [
    "test_merged['rain_1h'] = pd.to_numeric(test_merged['rain_1h'].replace('', '0'))"
   ]
  },
  {
   "cell_type": "code",
   "execution_count": 17,
   "metadata": {},
   "outputs": [],
   "source": [
    "# Perform One-Hot Encoding for 'weather_description'\n",
    "test_merged = pd.get_dummies(test_merged, columns=['weather_description'], prefix='weather')"
   ]
  },
  {
   "cell_type": "code",
   "execution_count": 18,
   "metadata": {},
   "outputs": [
    {
     "name": "stdout",
     "output_type": "stream",
     "text": [
      "<class 'pandas.core.frame.DataFrame'>\n",
      "RangeIndex: 2256 entries, 0 to 2255\n",
      "Data columns (total 21 columns):\n",
      " #   Column                        Non-Null Count  Dtype         \n",
      "---  ------                        --------------  -----         \n",
      " 0   Normal (kWh)                  2256 non-null   float64       \n",
      " 1   Economic (kWh)                2256 non-null   float64       \n",
      " 2   Self-consumption (kWh)        2256 non-null   float64       \n",
      " 3   datetime                      2256 non-null   datetime64[ns]\n",
      " 4   temp                          1752 non-null   float64       \n",
      " 5   feels_like                    1752 non-null   float64       \n",
      " 6   temp_min                      1752 non-null   float64       \n",
      " 7   temp_max                      1752 non-null   float64       \n",
      " 8   pressure                      1752 non-null   float64       \n",
      " 9   humidity                      1752 non-null   float64       \n",
      " 10  wind_speed                    1752 non-null   float64       \n",
      " 11  rain_1h                       1752 non-null   float64       \n",
      " 12  clouds_all                    1752 non-null   float64       \n",
      " 13  weather_broken clouds         2256 non-null   bool          \n",
      " 14  weather_few clouds            2256 non-null   bool          \n",
      " 15  weather_heavy intensity rain  2256 non-null   bool          \n",
      " 16  weather_light rain            2256 non-null   bool          \n",
      " 17  weather_moderate rain         2256 non-null   bool          \n",
      " 18  weather_overcast clouds       2256 non-null   bool          \n",
      " 19  weather_scattered clouds      2256 non-null   bool          \n",
      " 20  weather_sky is clear          2256 non-null   bool          \n",
      "dtypes: bool(8), datetime64[ns](1), float64(12)\n",
      "memory usage: 246.9 KB\n"
     ]
    }
   ],
   "source": [
    "test_merged.info()"
   ]
  },
  {
   "cell_type": "code",
   "execution_count": 19,
   "metadata": {},
   "outputs": [],
   "source": [
    "# Fill the missing values with the mean of the column\n",
    "test_merged_filled = test_merged.fillna(test_merged.mean())"
   ]
  },
  {
   "cell_type": "code",
   "execution_count": 20,
   "metadata": {},
   "outputs": [],
   "source": [
    "# Convert datetime features in test dataset\n",
    "test_merged_filled['year'] = test_merged_filled['datetime'].dt.year\n",
    "test_merged_filled['hour'] = test_merged_filled['datetime'].dt.hour\n",
    "\n",
    "# Drop the 'year' column\n",
    "test_merged_filled = test_merged_filled.drop(['year'], axis=1)\n",
    "\n",
    "# Transform the month and day into day of year\n",
    "test_merged_filled['day_of_year'] = test_merged_filled['datetime'].dt.dayofyear\n",
    "\n",
    "# Drop the 'month' and 'day' columns as well as the 'datetime' column\n",
    "test_merged_filled = test_merged_filled.drop(['datetime'], axis=1)"
   ]
  },
  {
   "cell_type": "code",
   "execution_count": 21,
   "metadata": {},
   "outputs": [
    {
     "data": {
      "text/html": [
       "<div>\n",
       "<style scoped>\n",
       "    .dataframe tbody tr th:only-of-type {\n",
       "        vertical-align: middle;\n",
       "    }\n",
       "\n",
       "    .dataframe tbody tr th {\n",
       "        vertical-align: top;\n",
       "    }\n",
       "\n",
       "    .dataframe thead th {\n",
       "        text-align: right;\n",
       "    }\n",
       "</style>\n",
       "<table border=\"1\" class=\"dataframe\">\n",
       "  <thead>\n",
       "    <tr style=\"text-align: right;\">\n",
       "      <th></th>\n",
       "      <th>Normal (kWh)</th>\n",
       "      <th>Economic (kWh)</th>\n",
       "      <th>Self-consumption (kWh)</th>\n",
       "      <th>temp</th>\n",
       "      <th>feels_like</th>\n",
       "      <th>temp_min</th>\n",
       "      <th>temp_max</th>\n",
       "      <th>pressure</th>\n",
       "      <th>humidity</th>\n",
       "      <th>wind_speed</th>\n",
       "      <th>...</th>\n",
       "      <th>weather_broken clouds</th>\n",
       "      <th>weather_few clouds</th>\n",
       "      <th>weather_heavy intensity rain</th>\n",
       "      <th>weather_light rain</th>\n",
       "      <th>weather_moderate rain</th>\n",
       "      <th>weather_overcast clouds</th>\n",
       "      <th>weather_scattered clouds</th>\n",
       "      <th>weather_sky is clear</th>\n",
       "      <th>hour</th>\n",
       "      <th>day_of_year</th>\n",
       "    </tr>\n",
       "  </thead>\n",
       "  <tbody>\n",
       "    <tr>\n",
       "      <th>801</th>\n",
       "      <td>0.0</td>\n",
       "      <td>0.0</td>\n",
       "      <td>0.358</td>\n",
       "      <td>7.1</td>\n",
       "      <td>4.92</td>\n",
       "      <td>4.71</td>\n",
       "      <td>8.34</td>\n",
       "      <td>1033.0</td>\n",
       "      <td>81.0</td>\n",
       "      <td>3.16</td>\n",
       "      <td>...</td>\n",
       "      <td>False</td>\n",
       "      <td>False</td>\n",
       "      <td>False</td>\n",
       "      <td>False</td>\n",
       "      <td>False</td>\n",
       "      <td>False</td>\n",
       "      <td>False</td>\n",
       "      <td>True</td>\n",
       "      <td>9</td>\n",
       "      <td>34</td>\n",
       "    </tr>\n",
       "  </tbody>\n",
       "</table>\n",
       "<p>1 rows × 22 columns</p>\n",
       "</div>"
      ],
      "text/plain": [
       "    Normal (kWh) Economic (kWh) Self-consumption (kWh) temp feels_like  \\\n",
       "801          0.0            0.0                  0.358  7.1       4.92   \n",
       "\n",
       "    temp_min temp_max pressure humidity wind_speed  ... weather_broken clouds  \\\n",
       "801     4.71     8.34   1033.0     81.0       3.16  ...                 False   \n",
       "\n",
       "    weather_few clouds weather_heavy intensity rain weather_light rain  \\\n",
       "801              False                        False              False   \n",
       "\n",
       "    weather_moderate rain weather_overcast clouds weather_scattered clouds  \\\n",
       "801                 False                   False                    False   \n",
       "\n",
       "    weather_sky is clear hour day_of_year  \n",
       "801                 True    9          34  \n",
       "\n",
       "[1 rows x 22 columns]"
      ]
     },
     "execution_count": 21,
     "metadata": {},
     "output_type": "execute_result"
    }
   ],
   "source": [
    "# Print the updated DataFrame\n",
    "test_merged_filled.iloc[801].to_frame().T"
   ]
  },
  {
   "cell_type": "code",
   "execution_count": 22,
   "metadata": {},
   "outputs": [],
   "source": [
    "# Convert 'rain_1h' to binary (1 for rain, 0 for no rain)\n",
    "test_merged_filled['rain_binary'] = test_merged_filled['rain_1h'].apply(lambda x: 1 if x > 0 else 0)\n",
    "\n",
    "# Convert rain_binary to boolean\n",
    "test_merged_filled['rain_binary'] = test_merged_filled['rain_binary'].astype(bool)"
   ]
  },
  {
   "cell_type": "code",
   "execution_count": 24,
   "metadata": {},
   "outputs": [],
   "source": [
    "# Write the final dataframe to a csv file\n",
    "test_merged_filled.to_csv('datasets/test_merged_filled.csv', index=False, encoding='latin')"
   ]
  }
 ],
 "metadata": {
  "kernelspec": {
   "display_name": "python3.10",
   "language": "python",
   "name": "python3"
  },
  "language_info": {
   "codemirror_mode": {
    "name": "ipython",
    "version": 3
   },
   "file_extension": ".py",
   "mimetype": "text/x-python",
   "name": "python",
   "nbconvert_exporter": "python",
   "pygments_lexer": "ipython3",
   "version": "3.10.13"
  }
 },
 "nbformat": 4,
 "nbformat_minor": 2
}
